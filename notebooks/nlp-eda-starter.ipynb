{
 "cells": [
  {
   "cell_type": "markdown",
   "id": "e2ecdfe2-d0a4-4458-9498-11370a5f155d",
   "metadata": {},
   "source": [
    "# EDA of Chatbot Arena Dataset -- Starter Notebook\n",
    "\n",
    "This notebook aims to help you explore the Chatbot Arena dataset, where two chatbots answer human questions, and users vote on the best response. Through this EDA, we will:\n",
    "- Understand the dataset structure and contents.\n",
    "- Explore the distribution of questions, responses, and chatbots.\n",
    "- Identify patterns in the data to guide future modeling tasks."
   ]
  },
  {
   "cell_type": "markdown",
   "id": "e682f63a-4115-4e2c-90ba-5c1f0eef35c3",
   "metadata": {},
   "source": [
    "## 1. Understanding the Dataset\n",
    "The source dataset comes from https://huggingface.co/datasets/lmsys/chatbot_arena_conversations. The author describes the dataset as follows:\n",
    "\n",
    "> This dataset contains 33K cleaned conversations with pairwise human preferences. It is collected from 13K unique IP addresses on the Chatbot Arena from April to June 2023. Each sample includes a question ID, two model names, their full conversation text in OpenAI API JSON format, the user vote, the anonymized user ID, the detected language tag, the OpenAI moderation API tag, the additional toxic tag, and the timestamp.\n",
    "\n",
    "[Chatbot Arena](https://chat.lmsys.org/) is a platform where users can ask questions and two chatbots will provide answers. The user then votes on which chatbot provided the best answer. The dataset contains the questions, the answers, and the user votes.\n",
    "\n",
    "### Main Dataset\n",
    "\n",
    "- **Conversation Data**\n",
    "You can find the processed dataset in `./chatbot-arena-conversations.jsonl.gz`. The dataset is in JSON line format and compressed using gzip. It has gone through the following preprocessing steps to make analysis easier:\n",
    "\n",
    "    - Removed non-English conversations.\n",
    "    - Removed conversations with more than one round.\n",
    "    - Removed conversations classified as toxic or harmful.\n",
    "\n",
    "The dataset you will be working with contains `25282` rows (out of `33000` total rows) and `7` columns. The columns are:\n",
    "\n",
    "- `question_id`: A unique identifier for the question.\n",
    "- `model_a`: The name of the first chatbot model.\n",
    "- `model_b`: The name of the second chatbot model.\n",
    "- `winner`: The name of the chatbot model that won the user vote.\n",
    "- `judge`: The anonymized user ID that voted.\n",
    "- `conversation_a`: The conversation between the user and `model_a`.\n",
    "- `conversation_b`: The conversation between the user and `model_b`.\n",
    "\n",
    "An example of the data is as follows:\n",
    "\n",
    "```json\n",
    "{\n",
    "  \"question_id\": \"c0fc42c6f5f14f2aa5a89f71f8553730\",\n",
    "  \"model_a\": \"vicuna-13b\",\n",
    "  \"model_b\": \"koala-13b\",\n",
    "  \"winner\": \"model_a\",\n",
    "  \"judge\": \"arena_user_973\",\n",
    "  \"conversation_a\": [\n",
    "    {\n",
    "      \"content\": \"Count from 1 to 10 with step = 3\",\n",
    "      \"role\": \"user\"\n",
    "    },\n",
    "    {\n",
    "      \"content\": \"1, 4, 7, 10\\n\\nCounting with a step of 3 means that you will increase the number by 3 each time. So, the first number is 1, the next is 4 (1 + 3), the next is 7 (4 + 3), and so on.\",\n",
    "      \"role\": \"assistant\"\n",
    "    }\n",
    "  ],\n",
    "  \"conversation_b\": [\n",
    "    {\n",
    "      \"content\": \"Count from 1 to 10 with step = 3\",\n",
    "      \"role\": \"user\"\n",
    "    },\n",
    "    {\n",
    "      \"content\": \"1, 4, 7, 10\",\n",
    "      \"role\": \"assistant\"\n",
    "    }\n",
    "  ]\n",
    "}\n",
    "```\n",
    "\n",
    "### Auxiliary Datasets\n",
    "\n",
    "There are four auxiliary datasets that you can use to help with your analysis:\n",
    "\n",
    "- **Embedding Data**\n",
    "    - `./chatbot-arena-prompts-embeddings.npy` contains the 256-dimensional text embeddings for each of the human questions. The embeddings are generated using OpenAI’s text-embedding model. We will explain what embeddings are and how you can use them later.\n",
    "    - `./chatbot-arena-model_a_response-embeddings.npy` contains the 256-dimensional text embeddings for each of the model a responses (second half of conversation a). The embeddings are generated using OpenAI’s text-embedding model. \n",
    "     - `./chatbot-arena-model_b_response-embeddings.npy` contains the 256-dimensional text embeddings for each of of the model b responses (second half of conversation b). The embeddings are generated using OpenAI’s text-embedding model.\n",
    "\n",
    "- **Topic Modeling and Hardness Score Data**\n",
    "- `./chatbot-arena-gpt3-scores.jsonl.gz` ([example row](https://gist.github.com/simon-mo/25c5d532bccc7f28b404cffdfe719e6e#file-example-aux-row-json))\n",
    " contains labels for the dataset, which you can use for later modeling tasks. It has the following fields:\n",
    "  - **question_id**: The unique identifier for the question, as seen in `./chatbot-arena-conversations.jsonl.gz`.\n",
    "  - **prompt**: The extracted human question. This is equivalent to the first message in `conversation_a` and `conversation_b` in `./chatbot-arena-conversations.jsonl.gz`.\n",
    "  - **openai_scores_raw_choices_nested**: The response from OpenAI GPT 3.5 model. It contains:\n",
    "    - The evaluated topic model\n",
    "    - The reason for a hardness score (from 1 to 10)\n",
    "    - The score value\n",
    "\n",
    "  For each prompt, we have 3 responses from GPT 3.5 because it is a probabilistic model. In the real world, multiple annotators may provide different labels for ground truth data. We extracted the following fields into columns:\n",
    "\n",
    "  - **topic_modeling_1, topic_modeling_2, topic_modeling_3**: Topic modeling for the first, second, and third response. Each topic contains two words.\n",
    "  - **score_reason_1, score_reason_2, score_reason_3**: The reasons for the hardness score for the first, second, and third response.\n",
    "  - **score_value_1, score_value_2, score_value_3**: The hardness score for the first, second, and third response.\n",
    " \n",
    "```json\n",
    "{\n",
    "  \"question_id\": \"58210e39b3fd4441a2bd4a518bb44c2d\",\n",
    "  \"prompt\": \"What is the difference between OpenCL and CUDA?\",\n",
    "  \"openai_scores_raw_choices_nested\": [\n",
    "    {\n",
    "      \"finish_reason\": \"stop\",\n",
    "      \"index\": 0,\n",
    "      \"logprobs\": null,\n",
    "      \"message\": {\n",
    "        \"content\": \"{\\n    \\\"topic_modeling\\\": \\\"Technical Comparison\\\",\\n    \\\"score_reason\\\": \\\"This prompt requires the AI to accurately compare and contrast two distinct technologies, OpenCL and CUDA. It assesses the AI's factual accuracy and knowledge of these technologies, as well as its ability to articulate the differences between them.\\\",\\n    \\\"score_value\\\": 9\\n}\",\n",
    "        \"role\": \"assistant\",\n",
    "        \"function_call\": null,\n",
    "        \"tool_calls\": null\n",
    "      }\n",
    "    },\n",
    "    {\n",
    "      \"finish_reason\": \"stop\",\n",
    "      \"index\": 1,\n",
    "      \"logprobs\": null,\n",
    "      \"message\": {\n",
    "        \"content\": \"{\\n    \\\"topic_modeling\\\": \\\"Software Comparison\\\",\\n    \\\"score_reason\\\": \\\"This prompt assesses the AI's factual accuracy in distinguishing between two similar but distinct software frameworks.\\\",\\n    \\\"score_value\\\": 8\\n}\",\n",
    "        \"role\": \"assistant\",\n",
    "        \"function_call\": null,\n",
    "        \"tool_calls\": null\n",
    "      }\n",
    "    },\n",
    "    {\n",
    "      \"finish_reason\": \"stop\",\n",
    "      \"index\": 2,\n",
    "      \"logprobs\": null,\n",
    "      \"message\": {\n",
    "        \"content\": \"{\\n    \\\"topic_modeling\\\": \\\"Comparison, Technology\\\",\\n    \\\"score_reason\\\": \\\"This prompt requires the AI to demonstrate knowledge of two different technologies, compare their features, and explain their distinctions. This task assesses the AI's factual accuracy and proficiency in understanding complex technological concepts.\\\",\\n    \\\"score_value\\\": 9\\n}\",\n",
    "        \"role\": \"assistant\",\n",
    "        \"function_call\": null,\n",
    "        \"tool_calls\": null\n",
    "      }\n",
    "    }\n",
    "  ],\n",
    "  \"topic_modeling_1\": \"Technical Comparison\",\n",
    "  \"score_reason_1\": \"This prompt requires the AI to accurately compare and contrast two distinct technologies, OpenCL and CUDA. It assesses the AI's factual accuracy and knowledge of these technologies, as well as its ability to articulate the differences between them.\",\n",
    "  \"score_value_1\": 9,\n",
    "  \"topic_modeling_2\": \"Software Comparison\",\n",
    "  \"score_reason_2\": \"This prompt assesses the AI's factual accuracy in distinguishing between two similar but distinct software frameworks.\",\n",
    "  \"score_value_2\": 8,\n",
    "  \"topic_modeling_3\": \"Comparison, Technology\",\n",
    "  \"score_reason_3\": \"This prompt requires the AI to demonstrate knowledge of two different technologies, compare their features, and explain their distinctions. This task assesses the AI's factual accuracy and proficiency in understanding complex technological concepts.\",\n",
    "  \"score_value_3\": 9\n",
    "}\n",
    "```"
   ]
  },
  {
   "cell_type": "markdown",
   "id": "125d5d37-3635-4412-bd0e-9f28874116ef",
   "metadata": {},
   "source": [
    "## 2. Loading the Data"
   ]
  },
  {
   "cell_type": "code",
   "execution_count": 1,
   "id": "6594a806-ebcc-4947-bf4b-938cdbba27dd",
   "metadata": {},
   "outputs": [],
   "source": [
    "import pandas as pd\n",
    "import numpy as np\n",
    "import matplotlib.pyplot as plt\n",
    "import seaborn as sns\n",
    "\n",
    "sns.set_theme(style=\"whitegrid\")"
   ]
  },
  {
   "cell_type": "code",
   "execution_count": 2,
   "id": "356f370f-b361-453d-8aa3-85e1dc3555d6",
   "metadata": {},
   "outputs": [
    {
     "data": {
      "text/html": [
       "<div>\n",
       "<style scoped>\n",
       "    .dataframe tbody tr th:only-of-type {\n",
       "        vertical-align: middle;\n",
       "    }\n",
       "\n",
       "    .dataframe tbody tr th {\n",
       "        vertical-align: top;\n",
       "    }\n",
       "\n",
       "    .dataframe thead th {\n",
       "        text-align: right;\n",
       "    }\n",
       "</style>\n",
       "<table border=\"1\" class=\"dataframe\">\n",
       "  <thead>\n",
       "    <tr style=\"text-align: right;\">\n",
       "      <th></th>\n",
       "      <th>question_id</th>\n",
       "      <th>model_a</th>\n",
       "      <th>model_b</th>\n",
       "      <th>winner</th>\n",
       "      <th>judge</th>\n",
       "      <th>conversation_a</th>\n",
       "      <th>conversation_b</th>\n",
       "    </tr>\n",
       "  </thead>\n",
       "  <tbody>\n",
       "    <tr>\n",
       "      <th>0</th>\n",
       "      <td>58210e39b3fd4441a2bd4a518bb44c2d</td>\n",
       "      <td>chatglm-6b</td>\n",
       "      <td>koala-13b</td>\n",
       "      <td>model_b</td>\n",
       "      <td>arena_user_973</td>\n",
       "      <td>[{'content': 'What is the difference between O...</td>\n",
       "      <td>[{'content': 'What is the difference between O...</td>\n",
       "    </tr>\n",
       "    <tr>\n",
       "      <th>1</th>\n",
       "      <td>2564acd09e3942fd97657d05282d4389</td>\n",
       "      <td>oasst-pythia-12b</td>\n",
       "      <td>alpaca-13b</td>\n",
       "      <td>tie</td>\n",
       "      <td>arena_user_973</td>\n",
       "      <td>[{'content': 'Why did my parent not invite me ...</td>\n",
       "      <td>[{'content': 'Why did my parent not invite me ...</td>\n",
       "    </tr>\n",
       "    <tr>\n",
       "      <th>2</th>\n",
       "      <td>90bfd142157948aba01931726c888e7f</td>\n",
       "      <td>koala-13b</td>\n",
       "      <td>oasst-pythia-12b</td>\n",
       "      <td>model_b</td>\n",
       "      <td>arena_user_973</td>\n",
       "      <td>[{'content': 'Fuji vs. Nikon, which is better?...</td>\n",
       "      <td>[{'content': 'Fuji vs. Nikon, which is better?...</td>\n",
       "    </tr>\n",
       "    <tr>\n",
       "      <th>3</th>\n",
       "      <td>a7c5accc53e649a3bc6b2e41d962ebc4</td>\n",
       "      <td>vicuna-13b</td>\n",
       "      <td>oasst-pythia-12b</td>\n",
       "      <td>model_b</td>\n",
       "      <td>arena_user_973</td>\n",
       "      <td>[{'content': 'How to build an arena for chatbo...</td>\n",
       "      <td>[{'content': 'How to build an arena for chatbo...</td>\n",
       "    </tr>\n",
       "    <tr>\n",
       "      <th>4</th>\n",
       "      <td>adf27e819a3c494cb6e993f0c660e097</td>\n",
       "      <td>vicuna-13b</td>\n",
       "      <td>koala-13b</td>\n",
       "      <td>model_a</td>\n",
       "      <td>arena_user_973</td>\n",
       "      <td>[{'content': 'When is it today?', 'role': 'use...</td>\n",
       "      <td>[{'content': 'When is it today?', 'role': 'use...</td>\n",
       "    </tr>\n",
       "  </tbody>\n",
       "</table>\n",
       "</div>"
      ],
      "text/plain": [
       "                        question_id           model_a           model_b  \\\n",
       "0  58210e39b3fd4441a2bd4a518bb44c2d        chatglm-6b         koala-13b   \n",
       "1  2564acd09e3942fd97657d05282d4389  oasst-pythia-12b        alpaca-13b   \n",
       "2  90bfd142157948aba01931726c888e7f         koala-13b  oasst-pythia-12b   \n",
       "3  a7c5accc53e649a3bc6b2e41d962ebc4        vicuna-13b  oasst-pythia-12b   \n",
       "4  adf27e819a3c494cb6e993f0c660e097        vicuna-13b         koala-13b   \n",
       "\n",
       "    winner           judge                                     conversation_a  \\\n",
       "0  model_b  arena_user_973  [{'content': 'What is the difference between O...   \n",
       "1      tie  arena_user_973  [{'content': 'Why did my parent not invite me ...   \n",
       "2  model_b  arena_user_973  [{'content': 'Fuji vs. Nikon, which is better?...   \n",
       "3  model_b  arena_user_973  [{'content': 'How to build an arena for chatbo...   \n",
       "4  model_a  arena_user_973  [{'content': 'When is it today?', 'role': 'use...   \n",
       "\n",
       "                                      conversation_b  \n",
       "0  [{'content': 'What is the difference between O...  \n",
       "1  [{'content': 'Why did my parent not invite me ...  \n",
       "2  [{'content': 'Fuji vs. Nikon, which is better?...  \n",
       "3  [{'content': 'How to build an arena for chatbo...  \n",
       "4  [{'content': 'When is it today?', 'role': 'use...  "
      ]
     },
     "execution_count": 2,
     "metadata": {},
     "output_type": "execute_result"
    }
   ],
   "source": [
    "# Main Dataset\n",
    "\n",
    "# Conversation Data -- we will use this data in the \"Conversation Data\" section\n",
    "df = pd.read_json(\n",
    "    \"./data100-shared-readwrite/fa24_grad_project_data/nlp-chatbot-analysis_data/training-set/chatbot-arena-conversations.jsonl.gz\",\n",
    "    lines=True,\n",
    "    compression=\"gzip\"\n",
    ")\n",
    "df.head(5)"
   ]
  },
  {
   "cell_type": "code",
   "execution_count": 3,
   "id": "789575c5-9d08-4f85-bf4b-1622b84e23a6",
   "metadata": {},
   "outputs": [],
   "source": [
    "# Auxiliary Datasets\n",
    "\n",
    "# Embedding Data -- we will use this data in the \"Embedding Data\" section\n",
    "prompt_embeddings = np.load(\n",
    "    \"./data100-shared-readwrite/fa24_grad_project_data/nlp-chatbot-analysis_data/training-set/chatbot-arena-prompts-embeddings.npy\"\n",
    ")\n",
    "\n",
    "response_a_embeddings = np.load(\n",
    "    \"./data100-shared-readwrite/fa24_grad_project_data/nlp-chatbot-analysis_data/training-set/chatbot-arena-model_a_response-embeddings.npy\"\n",
    ")\n",
    "\n",
    "response_b_embeddings = np.load(\n",
    "    \"./data100-shared-readwrite/fa24_grad_project_data/nlp-chatbot-analysis_data/training-set/chatbot-arena-model_b_response-embeddings.npy\"\n",
    ")\n",
    "\n",
    "# Topic Modeling and Hardness Score Data -- we will use this data in the \"Topic Modeling and Hardness Score Data\" section\n",
    "topic_and_hardness = pd.read_json(\n",
    "    \"./data100-shared-readwrite/fa24_grad_project_data/nlp-chatbot-analysis_data/training-set/chatbot-arena-gpt3-scores.jsonl.gz\",\n",
    "    lines=True,\n",
    "    compression=\"gzip\"\n",
    ")"
   ]
  },
  {
   "cell_type": "markdown",
   "id": "f79dea3a-89c9-458c-a36e-e322c4c5fe20",
   "metadata": {},
   "source": [
    "## 3. Exploring the Data"
   ]
  },
  {
   "cell_type": "markdown",
   "id": "8786dd59-23e1-44b6-82ce-b5aaf4efbba4",
   "metadata": {},
   "source": [
    "### Converstation Data\n",
    "\n",
    "Let's investigate the conversation data first (`chatbot-arena-conversations.jsonl.gz`). It is in JSON line format, compressed with `gzip`. You can load the data with `pd.read_json`."
   ]
  },
  {
   "cell_type": "markdown",
   "id": "cb9ed851-e2a8-4b2a-94fa-2e03195759a6",
   "metadata": {},
   "source": [
    "Before diving into any analysis, it's important to understand the structure of the dataset. In this section, we'll check the basic details of the data, such as the number of rows, column names, data types, and any missing values."
   ]
  },
  {
   "cell_type": "code",
   "execution_count": 4,
   "id": "0bfcd55c-8332-4622-9336-129aa22215f8",
   "metadata": {},
   "outputs": [
    {
     "name": "stdout",
     "output_type": "stream",
     "text": [
      "<class 'pandas.core.frame.DataFrame'>\n",
      "RangeIndex: 25282 entries, 0 to 25281\n",
      "Data columns (total 7 columns):\n",
      " #   Column          Non-Null Count  Dtype \n",
      "---  ------          --------------  ----- \n",
      " 0   question_id     25282 non-null  object\n",
      " 1   model_a         25282 non-null  object\n",
      " 2   model_b         25282 non-null  object\n",
      " 3   winner          25282 non-null  object\n",
      " 4   judge           25282 non-null  object\n",
      " 5   conversation_a  25282 non-null  object\n",
      " 6   conversation_b  25282 non-null  object\n",
      "dtypes: object(7)\n",
      "memory usage: 1.4+ MB\n"
     ]
    }
   ],
   "source": [
    "df.info()"
   ]
  },
  {
   "cell_type": "code",
   "execution_count": 5,
   "id": "6ff52110-9e14-43a3-aa80-716240937942",
   "metadata": {},
   "outputs": [
    {
     "data": {
      "text/plain": [
       "question_id       0\n",
       "model_a           0\n",
       "model_b           0\n",
       "winner            0\n",
       "judge             0\n",
       "conversation_a    0\n",
       "conversation_b    0\n",
       "dtype: int64"
      ]
     },
     "execution_count": 5,
     "metadata": {},
     "output_type": "execute_result"
    }
   ],
   "source": [
    "df.isnull().sum()"
   ]
  },
  {
   "cell_type": "markdown",
   "id": "142fe89b-5400-4c99-8fe8-c007f7dd52ca",
   "metadata": {},
   "source": [
    "As an example to guide you through the exploratory process, let’s investigate the length distribution of the prompt. This helps answer questions like (this is related to the ``Distribution of the prompt and response length'' requirement of the EDA assingment).\n",
    ": \n",
    "\n",
    "- Do the arena users ask long or short questions?\n",
    "- What is the average length of prompts that users give to the chatbots?\n",
    "\n",
    "By analyzing the length of the prompts, you can start forming hypotheses about how the length might affect model performance or user votes. This example will guide you in asking similar questions about other aspects of the dataset."
   ]
  },
  {
   "cell_type": "code",
   "execution_count": 6,
   "id": "d1d8d23d-158d-41f7-8942-f0f301740340",
   "metadata": {},
   "outputs": [
    {
     "data": {
      "text/plain": [
       "0    What is the difference between OpenCL and CUDA?\n",
       "Name: prompt, dtype: object"
      ]
     },
     "execution_count": 6,
     "metadata": {},
     "output_type": "execute_result"
    }
   ],
   "source": [
    "df[\"prompt\"] = df[\"conversation_a\"].str[0].str[\"content\"]\n",
    "df[\"prompt\"].head(1)"
   ]
  },
  {
   "cell_type": "code",
   "execution_count": 7,
   "id": "8fd2e311-9ef9-4b3c-9cee-4a5b73c00743",
   "metadata": {},
   "outputs": [
    {
     "data": {
      "text/plain": [
       "count    25282.00000\n",
       "mean       196.74646\n",
       "std        369.05595\n",
       "min         16.00000\n",
       "25%         42.00000\n",
       "50%         72.00000\n",
       "75%        156.00000\n",
       "max       2560.00000\n",
       "Name: prompt_length, dtype: float64"
      ]
     },
     "execution_count": 7,
     "metadata": {},
     "output_type": "execute_result"
    }
   ],
   "source": [
    "df[\"prompt_length\"] = df[\"prompt\"].str.len()\n",
    "df[\"prompt_length\"].describe()"
   ]
  },
  {
   "cell_type": "markdown",
   "id": "9f0029eb-d56a-4365-b2a8-6ad7f25ac241",
   "metadata": {},
   "source": [
    "Looks like the mean length of the prompt is about **200 characters, while the median is 72 characters**. This suggests that the distribution is **right-skewed!** Let's visualize this."
   ]
  },
  {
   "cell_type": "code",
   "execution_count": 8,
   "id": "e0656e01-e3db-4673-bdd1-c47446ca96f3",
   "metadata": {},
   "outputs": [
    {
     "data": {
      "text/plain": [
       "<Axes: xlabel='prompt_length', ylabel='Count'>"
      ]
     },
     "execution_count": 8,
     "metadata": {},
     "output_type": "execute_result"
    },
    {
     "data": {
      "image/png": "[encoded data removed]",
      "text/plain": [
       "<Figure size 1000x600 with 1 Axes>"
      ]
     },
     "metadata": {},
     "output_type": "display_data"
    }
   ],
   "source": [
    "# Plot the distribution of the length of the prompt\n",
    "plt.figure(figsize=(10, 6))\n",
    "sns.histplot(df[\"prompt_length\"], kde=True)"
   ]
  },
  {
   "cell_type": "markdown",
   "id": "14f738b9-3b65-4eee-b550-73aec71d58c3",
   "metadata": {},
   "source": [
    "Now, can you apply the same thought process to visualize the distribution of the response length? "
   ]
  },
  {
   "cell_type": "markdown",
   "id": "2b3e175e-a2be-4529-8c86-00c7a8b628f2",
   "metadata": {},
   "source": [
    "Applying the same logic you used to make the `prompt` column, you should also make the columns `model_a_response` and `model_b_response` by extracting the **second half** of the content from `conversation_a` and `conversation_b` respectively in order to look into specific content of the model responses."
   ]
  },
  {
   "cell_type": "code",
   "execution_count": 9,
   "id": "4e62e14b",
   "metadata": {},
   "outputs": [
    {
     "name": "stdout",
     "output_type": "stream",
     "text": [
      "                                      conversation_a  \\\n",
      "0  [{'content': 'What is the difference between O...   \n",
      "1  [{'content': 'Why did my parent not invite me ...   \n",
      "2  [{'content': 'Fuji vs. Nikon, which is better?...   \n",
      "3  [{'content': 'How to build an arena for chatbo...   \n",
      "4  [{'content': 'When is it today?', 'role': 'use...   \n",
      "\n",
      "                                    model_a_response  \\\n",
      "0  OpenCL and CUDA are two different programming ...   \n",
      "1  It is possible that your parent did not invite...   \n",
      "2  Both Fuji and Nikon are popular camera brands ...   \n",
      "3  Building an arena for chatbots can be done by ...   \n",
      "4  I'm sorry, I cannot determine the current date...   \n",
      "\n",
      "                                      conversation_b  \\\n",
      "0  [{'content': 'What is the difference between O...   \n",
      "1  [{'content': 'Why did my parent not invite me ...   \n",
      "2  [{'content': 'Fuji vs. Nikon, which is better?...   \n",
      "3  [{'content': 'How to build an arena for chatbo...   \n",
      "4  [{'content': 'When is it today?', 'role': 'use...   \n",
      "\n",
      "                                    model_b_response  \n",
      "0  OpenCL and CUDA are both programming languages...  \n",
      "1  It is likely that they wanted to keep the gues...  \n",
      "2  This is a subjective question and the answer d...  \n",
      "3  Building an arena for chatbots is a great way ...  \n",
      "4                        Today is February 23, 2023.  \n"
     ]
    }
   ],
   "source": [
    "# Function to extract the assistant's response from a conversation\n",
    "def extract_assistant_response(conversation):\n",
    "    \"\"\"\n",
    "    Extracts the assistant's response from a conversation list.\n",
    "    \n",
    "    Parameters:\n",
    "    - conversation (list): A list of dictionaries representing the conversation turns.\n",
    "    \n",
    "    Returns:\n",
    "    - str: The content of the assistant's response. Returns an empty string if not found.\n",
    "    \"\"\"\n",
    "    if isinstance(conversation, list):\n",
    "        for turn in conversation:\n",
    "            if turn.get(\"role\") == \"assistant\":\n",
    "                return turn.get(\"content\", \"\")\n",
    "    return \"\"\n",
    "\n",
    "# Apply the function to extract responses for both models\n",
    "df[\"model_a_response\"] = df[\"conversation_a\"].apply(extract_assistant_response)\n",
    "df[\"model_b_response\"] = df[\"conversation_b\"].apply(extract_assistant_response)\n",
    "\n",
    "# Display the first few rows to verify extraction\n",
    "print(df[[\"conversation_a\", \"model_a_response\", \"conversation_b\", \"model_b_response\"]].head())\n"
   ]
  },
  {
   "cell_type": "code",
   "execution_count": 10,
   "id": "8e372083",
   "metadata": {},
   "outputs": [
    {
     "name": "stdout",
     "output_type": "stream",
     "text": [
      "Missing Model A Responses: 0\n",
      "Missing Model B Responses: 0\n"
     ]
    }
   ],
   "source": [
    "# Verify if any responses are missing after extraction\n",
    "missing_a_responses = df[\"model_a_response\"].isnull().sum()\n",
    "missing_b_responses = df[\"model_b_response\"].isnull().sum()\n",
    "\n",
    "print(f\"Missing Model A Responses: {missing_a_responses}\")\n",
    "print(f\"Missing Model B Responses: {missing_b_responses}\")\n"
   ]
  },
  {
   "cell_type": "code",
   "execution_count": 11,
   "id": "dc2b0a2e",
   "metadata": {},
   "outputs": [
    {
     "name": "stdout",
     "output_type": "stream",
     "text": [
      "Model A Response Length Statistics:\n",
      "count    25282.000000\n",
      "mean       772.708409\n",
      "std        655.798032\n",
      "min          1.000000\n",
      "25%        232.000000\n",
      "50%        591.000000\n",
      "75%       1215.750000\n",
      "max       9857.000000\n",
      "Name: model_a_response_length, dtype: float64\n",
      "\n",
      "Model B Response Length Statistics:\n",
      "count    25282.000000\n",
      "mean       773.163911\n",
      "std        658.803491\n",
      "min          1.000000\n",
      "25%        232.000000\n",
      "50%        582.000000\n",
      "75%       1214.750000\n",
      "max       7135.000000\n",
      "Name: model_b_response_length, dtype: float64\n"
     ]
    }
   ],
   "source": [
    "# Calculate the length of each response in characters\n",
    "df[\"model_a_response_length\"] = df[\"model_a_response\"].str.len()\n",
    "df[\"model_b_response_length\"] = df[\"model_b_response\"].str.len()\n",
    "\n",
    "# Display descriptive statistics for response lengths\n",
    "print(\"Model A Response Length Statistics:\")\n",
    "print(df[\"model_a_response_length\"].describe())\n",
    "print(\"\\nModel B Response Length Statistics:\")\n",
    "print(df[\"model_b_response_length\"].describe())\n"
   ]
  },
  {
   "cell_type": "code",
   "execution_count": 12,
   "id": "152906f7",
   "metadata": {},
   "outputs": [
    {
     "data": {
      "image/png": "[encoded data removed]",
      "text/plain": [
       "<Figure size 1400x600 with 2 Axes>"
      ]
     },
     "metadata": {},
     "output_type": "display_data"
    }
   ],
   "source": [
    "# Set up the matplotlib figure\n",
    "plt.figure(figsize=(14, 6))\n",
    "\n",
    "# Histogram and KDE for Model A\n",
    "plt.subplot(1, 2, 1)\n",
    "sns.histplot(df[\"model_a_response_length\"], bins=50, kde=True, color='skyblue')\n",
    "plt.title(\"Distribution of Model A Response Lengths\")\n",
    "plt.xlabel(\"Response Length (characters)\")\n",
    "plt.ylabel(\"Frequency\")\n",
    "\n",
    "# Histogram and KDE for Model B\n",
    "plt.subplot(1, 2, 2)\n",
    "sns.histplot(df[\"model_b_response_length\"], bins=50, kde=True, color='salmon')\n",
    "plt.title(\"Distribution of Model B Response Lengths\")\n",
    "plt.xlabel(\"Response Length (characters)\")\n",
    "plt.ylabel(\"Frequency\")\n",
    "\n",
    "plt.tight_layout()\n",
    "plt.show()\n"
   ]
  },
  {
   "cell_type": "code",
   "execution_count": 13,
   "id": "86257831",
   "metadata": {},
   "outputs": [
    {
     "name": "stderr",
     "output_type": "stream",
     "text": [
      "C:\\Users\\daisy\\AppData\\Local\\Temp\\ipykernel_7356\\3548644306.py:3: FutureWarning: \n",
      "\n",
      "`shade` is now deprecated in favor of `fill`; setting `fill=True`.\n",
      "This will become an error in seaborn v0.14.0; please update your code.\n",
      "\n",
      "  sns.kdeplot(df[\"model_a_response_length\"], shade=True, label='Model A', color='skyblue')\n",
      "C:\\Users\\daisy\\AppData\\Local\\Temp\\ipykernel_7356\\3548644306.py:4: FutureWarning: \n",
      "\n",
      "`shade` is now deprecated in favor of `fill`; setting `fill=True`.\n",
      "This will become an error in seaborn v0.14.0; please update your code.\n",
      "\n",
      "  sns.kdeplot(df[\"model_b_response_length\"], shade=True, label='Model B', color='salmon')\n"
     ]
    },
    {
     "data": {
      "image/png": "[encoded data removed]",
      "text/plain": [
       "<Figure size 1000x600 with 1 Axes>"
      ]
     },
     "metadata": {},
     "output_type": "display_data"
    }
   ],
   "source": [
    "# Overlayed KDE plots for both models\n",
    "plt.figure(figsize=(10, 6))\n",
    "sns.kdeplot(df[\"model_a_response_length\"], shade=True, label='Model A', color='skyblue')\n",
    "sns.kdeplot(df[\"model_b_response_length\"], shade=True, label='Model B', color='salmon')\n",
    "plt.title(\"Comparison of Response Length Distributions\")\n",
    "plt.xlabel(\"Response Length (characters)\")\n",
    "plt.ylabel(\"Density\")\n",
    "plt.legend()\n",
    "plt.show()\n"
   ]
  },
  {
   "cell_type": "markdown",
   "id": "395d2c16",
   "metadata": {},
   "source": [
    "#### Handling Outliers in Response Lengths"
   ]
  },
  {
   "cell_type": "code",
   "execution_count": 14,
   "id": "0f2a92f9",
   "metadata": {},
   "outputs": [
    {
     "name": "stdout",
     "output_type": "stream",
     "text": [
      "Model A Response Length Capped at 99th Percentile:\n",
      "count    25282.000000\n",
      "mean       766.487026\n",
      "std        629.613944\n",
      "min          1.000000\n",
      "25%        232.000000\n",
      "50%        591.000000\n",
      "75%       1215.750000\n",
      "max       2531.000000\n",
      "Name: model_a_response_length_capped, dtype: float64\n",
      "\n",
      "Model B Response Length Capped at 99th Percentile:\n",
      "count    25282.000000\n",
      "mean       766.966628\n",
      "std        635.472378\n",
      "min          1.000000\n",
      "25%        232.000000\n",
      "50%        582.000000\n",
      "75%       1214.750000\n",
      "max       2555.760000\n",
      "Name: model_b_response_length_capped, dtype: float64\n"
     ]
    }
   ],
   "source": [
    "# Define capping thresholds (e.g., 95th percentile)\n",
    "cap_a = df[\"model_a_response_length\"].quantile(0.99)\n",
    "cap_b = df[\"model_b_response_length\"].quantile(0.99)\n",
    "\n",
    "# Apply capping\n",
    "df[\"model_a_response_length_capped\"] = df[\"model_a_response_length\"].clip(upper=cap_a)\n",
    "df[\"model_b_response_length_capped\"] = df[\"model_b_response_length\"].clip(upper=cap_b)\n",
    "\n",
    "# Verify capping\n",
    "print(\"Model A Response Length Capped at 99th Percentile:\")\n",
    "print(df[\"model_a_response_length_capped\"].describe())\n",
    "\n",
    "print(\"\\nModel B Response Length Capped at 99th Percentile:\")\n",
    "print(df[\"model_b_response_length_capped\"].describe())\n"
   ]
  },
  {
   "cell_type": "code",
   "execution_count": 15,
   "id": "ab766052",
   "metadata": {},
   "outputs": [
    {
     "name": "stdout",
     "output_type": "stream",
     "text": [
      "Original dataset size: 25282\n",
      "Filtered dataset size: 24804\n"
     ]
    }
   ],
   "source": [
    "# Define removal thresholds (e.g., 99th percentile)\n",
    "threshold_a = df[\"model_a_response_length\"].quantile(0.99)\n",
    "threshold_b = df[\"model_b_response_length\"].quantile(0.99)\n",
    "\n",
    "# Filter out outliers\n",
    "df_filtered = df[\n",
    "    (df[\"model_a_response_length\"] <= threshold_a) &\n",
    "    (df[\"model_b_response_length\"] <= threshold_b)\n",
    "]\n",
    "\n",
    "print(f\"Original dataset size: {df.shape[0]}\")\n",
    "print(f\"Filtered dataset size: {df_filtered.shape[0]}\")\n"
   ]
  },
  {
   "cell_type": "code",
   "execution_count": 16,
   "id": "5c66ac4d",
   "metadata": {},
   "outputs": [
    {
     "data": {
      "image/png": "[encoded data removed]",
      "text/plain": [
       "<Figure size 1400x600 with 2 Axes>"
      ]
     },
     "metadata": {},
     "output_type": "display_data"
    }
   ],
   "source": [
    "# Set Seaborn theme for consistency\n",
    "sns.set_theme(style=\"whitegrid\")\n",
    "\n",
    "# Set up the matplotlib figure\n",
    "plt.figure(figsize=(14, 6))\n",
    "\n",
    "# Histogram and KDE for Model A\n",
    "plt.subplot(1, 2, 1)\n",
    "sns.histplot(df_filtered[\"model_a_response_length\"], bins=50, kde=True, color='skyblue')\n",
    "plt.title(\"Distribution of Model A Response Lengths (Filtered)\")\n",
    "plt.xlabel(\"Response Length (characters)\")\n",
    "plt.ylabel(\"Frequency\")\n",
    "\n",
    "# Histogram and KDE for Model B\n",
    "plt.subplot(1, 2, 2)\n",
    "sns.histplot(df_filtered[\"model_b_response_length\"], bins=50, kde=True, color='salmon')\n",
    "plt.title(\"Distribution of Model B Response Lengths (Filtered)\")\n",
    "plt.xlabel(\"Response Length (characters)\")\n",
    "plt.ylabel(\"Frequency\")\n",
    "\n",
    "plt.tight_layout()\n",
    "plt.show()\n"
   ]
  },
  {
   "cell_type": "markdown",
   "id": "33674607",
   "metadata": {},
   "source": [
    "#### Handling Outliers in prompt_length"
   ]
  },
  {
   "cell_type": "code",
   "execution_count": 17,
   "id": "43af9ce0",
   "metadata": {},
   "outputs": [
    {
     "name": "stdout",
     "output_type": "stream",
     "text": [
      "Capping Threshold (99th Percentile): 1982.9400000000023\n",
      "Descriptive Statistics After Capping:\n",
      "count    24804.000000\n",
      "mean       189.565395\n",
      "std        340.127300\n",
      "min         16.000000\n",
      "25%         42.000000\n",
      "50%         71.000000\n",
      "75%        154.000000\n",
      "max       1982.940000\n",
      "Name: prompt_length_capped, dtype: float64\n",
      "Maximum Prompt Length After Capping: 1982.9400000000023\n"
     ]
    },
    {
     "name": "stderr",
     "output_type": "stream",
     "text": [
      "C:\\Users\\daisy\\AppData\\Local\\Temp\\ipykernel_7356\\2178182483.py:6: SettingWithCopyWarning: \n",
      "A value is trying to be set on a copy of a slice from a DataFrame.\n",
      "Try using .loc[row_indexer,col_indexer] = value instead\n",
      "\n",
      "See the caveats in the documentation: https://pandas.pydata.org/pandas-docs/stable/user_guide/indexing.html#returning-a-view-versus-a-copy\n",
      "  df_filtered[\"prompt_length_capped\"] = df_filtered[\"prompt_length\"].clip(upper=cap_threshold)\n"
     ]
    }
   ],
   "source": [
    "# Define capping threshold at the 99th percentile\n",
    "cap_threshold = df_filtered[\"prompt_length\"].quantile(0.99)\n",
    "print(f\"Capping Threshold (99th Percentile): {cap_threshold}\")\n",
    "\n",
    "# Apply capping\n",
    "df_filtered[\"prompt_length_capped\"] = df_filtered[\"prompt_length\"].clip(upper=cap_threshold)\n",
    "\n",
    "# Verify the capping\n",
    "print(\"Descriptive Statistics After Capping:\")\n",
    "print(df_filtered[\"prompt_length_capped\"].describe())\n",
    "\n",
    "# Confirm no values exceed the cap\n",
    "print(f\"Maximum Prompt Length After Capping: {df_filtered['prompt_length_capped'].max()}\")\n"
   ]
  },
  {
   "cell_type": "code",
   "execution_count": 18,
   "id": "c4b11aad",
   "metadata": {},
   "outputs": [
    {
     "name": "stdout",
     "output_type": "stream",
     "text": [
      "count    24804.000000\n",
      "mean       189.565395\n",
      "std        340.127300\n",
      "min         16.000000\n",
      "25%         42.000000\n",
      "50%         71.000000\n",
      "75%        154.000000\n",
      "max       1982.940000\n",
      "Name: prompt_length, dtype: float64\n"
     ]
    }
   ],
   "source": [
    "# Optionally, drop the original 'prompt_length' and rename the capped version\n",
    "df_filtered = df_filtered.drop(columns=[\"prompt_length\"])\n",
    "df_filtered = df_filtered.rename(columns={\"prompt_length_capped\": \"prompt_length\"})\n",
    "\n",
    "# Confirm the changes\n",
    "print(df_filtered[\"prompt_length\"].describe())\n"
   ]
  },
  {
   "cell_type": "code",
   "execution_count": 19,
   "id": "06d725a3",
   "metadata": {},
   "outputs": [
    {
     "data": {
      "image/png": "[encoded data removed]",
      "text/plain": [
       "<Figure size 1000x600 with 1 Axes>"
      ]
     },
     "metadata": {},
     "output_type": "display_data"
    }
   ],
   "source": [
    "# Histogram and KDE for Capped Prompt Length\n",
    "plt.figure(figsize=(10, 6))\n",
    "sns.histplot(df_filtered[\"prompt_length\"], bins=50, kde=True, color='green')\n",
    "plt.title(\"Distribution of Prompt Lengths After Capping (Filtered)\")\n",
    "plt.xlabel(\"Prompt Length (characters)\")\n",
    "plt.ylabel(\"Frequency\")\n",
    "plt.show()\n"
   ]
  },
  {
   "cell_type": "markdown",
   "id": "626074ea-6660-4cfd-a4fa-17d2249d9304",
   "metadata": {},
   "source": [
    "### Embedding Data\n",
    "\n",
    "Text embedding models transform natural language text into numerical vectors. The vectors are generated in such a way that semantically similar text are close to each other in the vector space. In the real world, these embeddings to find similar questions or to cluster the questions.\n",
    "\n",
    "Concretely, the auxiliary dataset,`./chatbot-arena-prompts-embeddings.npy`, `./chatbot-arena-model_a_response-embeddings.npy`, and `./chatbot-arena-model_b_response-embeddings.npy`, contains 256-dimensional text embeddings for each of the human questions, model a responses and model b responses respectively. "
   ]
  },
  {
   "cell_type": "markdown",
   "id": "2e8a4bbd-4d47-4c45-b035-34425934fc4b",
   "metadata": {},
   "source": [
    "In this section, we will walk you through an example of computing the similarity between prompts using the precomputed embeddings (`./chatbot-arena-prompts-embeddings.npy`). The goal is to find prompts that are most similar to a given prompt based on their embeddings.\n",
    "\n",
    "Before we get started, let's first load and output the `propmt_embeddings` which we have loaded in the second section to see what they look like. Each embedding is a 256-dimensional vector that represents the semantic meaning of a prompt. These vectors allow us to compare prompts based on their content."
   ]
  },
  {
   "cell_type": "code",
   "execution_count": 20,
   "id": "ea2dfdba-9cca-4bf0-8f5c-f21b7a59854b",
   "metadata": {},
   "outputs": [
    {
     "data": {
      "text/plain": [
       "array([[-0.12376316, -0.1173524 ,  0.04567662, ..., -0.02439648,\n",
       "        -0.03724024, -0.04380682],\n",
       "       [ 0.00602781,  0.02843601, -0.09102212, ...,  0.08506154,\n",
       "        -0.05333152,  0.00185428],\n",
       "       [-0.03522179, -0.10940242, -0.02224718, ..., -0.14116742,\n",
       "         0.00477351,  0.00416916],\n",
       "       ...,\n",
       "       [ 0.02476096, -0.02741823,  0.07049022, ..., -0.05541623,\n",
       "        -0.02461602,  0.06005438],\n",
       "       [ 0.01620374,  0.04473886,  0.08496623, ..., -0.02189322,\n",
       "        -0.05438842,  0.02849752],\n",
       "       [-0.04179214,  0.00963908, -0.00338678, ...,  0.08221702,\n",
       "        -0.02381286, -0.10591594]], dtype=float32)"
      ]
     },
     "execution_count": 20,
     "metadata": {},
     "output_type": "execute_result"
    }
   ],
   "source": [
    "prompt_embeddings"
   ]
  },
  {
   "cell_type": "markdown",
   "id": "44759049-09d6-4850-b21d-c194943a9c92",
   "metadata": {},
   "source": [
    "The embeddings are a matrix where each row corresponds to a prompt from the dataset. Each row is a 256-dimensional vector that captures the semantic meaning of the prompt."
   ]
  },
  {
   "cell_type": "code",
   "execution_count": 21,
   "id": "d67d2105-bbf0-4323-a0bf-603d0ce70f88",
   "metadata": {},
   "outputs": [
    {
     "data": {
      "text/plain": [
       "(25282, 256)"
      ]
     },
     "execution_count": 21,
     "metadata": {},
     "output_type": "execute_result"
    }
   ],
   "source": [
    "prompt_embeddings.shape"
   ]
  },
  {
   "cell_type": "markdown",
   "id": "cfa079ce-05af-498f-b87a-d4f3720ae5e5",
   "metadata": {},
   "source": [
    "The embeddings array has a shape of `(25282, 256)`, meaning there are 25,282 embeddings (one for each prompt), and each embedding is a 256-dimensional vector."
   ]
  },
  {
   "cell_type": "markdown",
   "id": "0de7543f-a340-4ee0-af64-956ad83e2254",
   "metadata": {},
   "source": [
    "Next, we will:\n",
    "1. Take a sample of the embeddings to reduce computation time.\n",
    "2. Compute the dot product between the embeddings to measure similarity.\n",
    "3. Retrieve the most similar prompts to a chosen source prompt.\n",
    "4. Output the top 5 similar prompts.\n",
    "(This is related to the ``(Open-ended) Explore the prompt topics in the dataset (topic modeling).'' requirement of the EDA assignment)\n",
    "\n",
    "Start by taking a sample of the embeddings and calculating the similarity between them using the dot product."
   ]
  },
  {
   "cell_type": "code",
   "execution_count": 22,
   "id": "d127aa9f-763e-4086-9ae5-9464ff37f3b6",
   "metadata": {},
   "outputs": [
    {
     "data": {
      "text/plain": [
       "(1000, 1000)"
      ]
     },
     "execution_count": 22,
     "metadata": {},
     "output_type": "execute_result"
    }
   ],
   "source": [
    "# Let's try to find the closest prompt to a given prompt\n",
    "embeddings_sample = prompt_embeddings[:1000]\n",
    "\n",
    "# Compute the dot product between the embeddings\n",
    "dot_product = np.dot(embeddings_sample, embeddings_sample.T)\n",
    "dot_product.shape"
   ]
  },
  {
   "cell_type": "markdown",
   "id": "ac287514-b2d2-4c2c-8250-cbaeec97d73b",
   "metadata": {},
   "source": [
    "Given the above output, the dot product matrix has a shape of (1000, 1000), meaning we have similarity scores between all pairs of prompts in our sample of 1000.\n",
    "\n",
    "Next, let's choose a prompt and find the top 5 most similar prompts based on the computed similarity."
   ]
  },
  {
   "cell_type": "code",
   "execution_count": 23,
   "id": "9ea1a18d-6b3b-4f28-8ca3-24ea8b1689d8",
   "metadata": {},
   "outputs": [
    {
     "data": {
      "text/plain": [
       "'Write me a function to lazily compute a Fibonacci sequence in Clojure. '"
      ]
     },
     "execution_count": 23,
     "metadata": {},
     "output_type": "execute_result"
    }
   ],
   "source": [
    "source_prompt_idx = 23\n",
    "source_prompt = df.iloc[source_prompt_idx].prompt\n",
    "source_prompt"
   ]
  },
  {
   "cell_type": "markdown",
   "id": "68a72a91-5a4c-447c-9489-4f7b4fa8844b",
   "metadata": {},
   "source": [
    "The prompt we're using as a reference (index 23) is:\n",
    "\n",
    "`'Write me a function to lazily compute a Fibonacci sequence in Clojure.'`\n",
    "\n",
    "Now let's find the top 5 most similar prompts to this one."
   ]
  },
  {
   "cell_type": "code",
   "execution_count": 24,
   "id": "69c8b1b8-9279-4c4f-87f5-f01f5f154822",
   "metadata": {},
   "outputs": [
    {
     "data": {
      "text/plain": [
       "['Write me a function to lazily compute a Fibonacci sequence in Clojure. ',\n",
       " \"Let's write a function that sums every third number from 1 to 100.\",\n",
       " 'Write an efficient Fibonacci number calculator in Python. ',\n",
       " 'Write a program in Ocaml to compute the square root of a number.',\n",
       " 'What is a pure function?']"
      ]
     },
     "execution_count": 24,
     "metadata": {},
     "output_type": "execute_result"
    }
   ],
   "source": [
    "top_k = 5\n",
    "similar_promts_idx = np.argsort(dot_product[source_prompt_idx])[-top_k:][::-1]\n",
    "similar_promts = df.iloc[similar_promts_idx].prompt\n",
    "similar_promts.tolist()"
   ]
  },
  {
   "cell_type": "markdown",
   "id": "0b0ce403-0390-44b5-9747-1f84f124c681",
   "metadata": {},
   "source": [
    "As you can see, these prompts are closely related to programming tasks, many of them dealing with functions and computations. This shows how embeddings can group semantically similar questions together."
   ]
  },
  {
   "cell_type": "markdown",
   "id": "17908262-6a3f-4867-8c05-49cf5704954e",
   "metadata": {},
   "source": [
    "You also have the embeddings for responses from models a (`./chatbot-arena-model_a_response-embeddings.npy`) and model b (`./chatbot-arena-model_b_response-embeddings.npy`) respectively to explore. (These are the embeddings from columns `model_a_response` and `model_b_response` which can be created by extracting the second half of columns `conversation_a` and `conversation_b` respectively (as explained in the previous section)."
   ]
  },
  {
   "cell_type": "markdown",
   "id": "8ae89944-fffb-4dd4-a33f-5f7286d3d669",
   "metadata": {},
   "source": [
    "Potential follow-up questions you can explore: \n",
    "- Can you identify clusters of similar topics within the dataset?\n",
    "- How do different models perform on similar prompts?\n",
    "- Can you find examples where semantically similar prompts result in different outcomes?"
   ]
  },
  {
   "cell_type": "markdown",
   "id": "39856510-10f6-4060-b837-013fbbeb5544",
   "metadata": {},
   "source": [
    "### Topic Modeling and Hardness Score Data\n",
    "\n",
    "Now, let's explore the second auxiliary dataset `./chatbot-arena-gpt3-scores.jsonl.gz`, which contains valuable information for later modeling tasks. \n",
    "\n",
    "For each prompt, there are 3 responses, as GPT-3.5 is probabilistic. This means we get multiple labels for a single prompt, similar to how real-world datasets can have multiple annotations.\n",
    "\n",
    "Let's start by loading and inspecting the first 5 rows of this dataset to understand its structure.\n",
    "\n",
    "**_Warning_: This data can be messy! This is intentionally not cleaned up for you to resemble real-world data. You are responsible for figuring out the irregularities and cleaning it up. The following cells demonstrate the example of messy data.**"
   ]
  },
  {
   "cell_type": "code",
   "execution_count": 25,
   "id": "9022d114-d745-496e-bbcc-0586f5f550b6",
   "metadata": {},
   "outputs": [
    {
     "data": {
      "text/html": [
       "<div>\n",
       "<style scoped>\n",
       "    .dataframe tbody tr th:only-of-type {\n",
       "        vertical-align: middle;\n",
       "    }\n",
       "\n",
       "    .dataframe tbody tr th {\n",
       "        vertical-align: top;\n",
       "    }\n",
       "\n",
       "    .dataframe thead th {\n",
       "        text-align: right;\n",
       "    }\n",
       "</style>\n",
       "<table border=\"1\" class=\"dataframe\">\n",
       "  <thead>\n",
       "    <tr style=\"text-align: right;\">\n",
       "      <th></th>\n",
       "      <th>question_id</th>\n",
       "      <th>prompt</th>\n",
       "      <th>openai_scores_raw_choices_nested</th>\n",
       "      <th>topic_modeling_1</th>\n",
       "      <th>score_reason_1</th>\n",
       "      <th>score_value_1</th>\n",
       "      <th>topic_modeling_2</th>\n",
       "      <th>score_reason_2</th>\n",
       "      <th>score_value_2</th>\n",
       "      <th>topic_modeling_3</th>\n",
       "      <th>score_reason_3</th>\n",
       "      <th>score_value_3</th>\n",
       "    </tr>\n",
       "  </thead>\n",
       "  <tbody>\n",
       "    <tr>\n",
       "      <th>0</th>\n",
       "      <td>58210e39b3fd4441a2bd4a518bb44c2d</td>\n",
       "      <td>What is the difference between OpenCL and CUDA?</td>\n",
       "      <td>[{'finish_reason': 'stop', 'index': 0, 'logpro...</td>\n",
       "      <td>Technical Comparison</td>\n",
       "      <td>This prompt requires the AI to accurately comp...</td>\n",
       "      <td>9</td>\n",
       "      <td>Software Comparison</td>\n",
       "      <td>This prompt assesses the AI's factual accuracy...</td>\n",
       "      <td>8</td>\n",
       "      <td>Comparison, Technology</td>\n",
       "      <td>This prompt requires the AI to demonstrate kno...</td>\n",
       "      <td>9</td>\n",
       "    </tr>\n",
       "    <tr>\n",
       "      <th>1</th>\n",
       "      <td>2564acd09e3942fd97657d05282d4389</td>\n",
       "      <td>Why did my parent not invite me to their wedding?</td>\n",
       "      <td>[{'finish_reason': 'stop', 'index': 0, 'logpro...</td>\n",
       "      <td>Reasoning, Emotion</td>\n",
       "      <td>This prompt requires the AI to understand huma...</td>\n",
       "      <td>9</td>\n",
       "      <td>Emotions, Relationships</td>\n",
       "      <td>This prompt involves understanding complex hum...</td>\n",
       "      <td>8</td>\n",
       "      <td>Reasoning, Emotional</td>\n",
       "      <td>This prompt challenges the AI to infer motives...</td>\n",
       "      <td>8</td>\n",
       "    </tr>\n",
       "    <tr>\n",
       "      <th>2</th>\n",
       "      <td>90bfd142157948aba01931726c888e7f</td>\n",
       "      <td>Fuji vs. Nikon, which is better?</td>\n",
       "      <td>[{'finish_reason': 'stop', 'index': 0, 'logpro...</td>\n",
       "      <td>Camera comparison</td>\n",
       "      <td>This prompt does not require problem-solving s...</td>\n",
       "      <td>2</td>\n",
       "      <td>Comparative Analysis</td>\n",
       "      <td>This prompt assesses the AI's ability to analy...</td>\n",
       "      <td>6</td>\n",
       "      <td>Photography comparison</td>\n",
       "      <td>This prompt is subjective and does not provide...</td>\n",
       "      <td>2</td>\n",
       "    </tr>\n",
       "    <tr>\n",
       "      <th>3</th>\n",
       "      <td>a7c5accc53e649a3bc6b2e41d962ebc4</td>\n",
       "      <td>How to build an arena for chatbots?</td>\n",
       "      <td>[{'finish_reason': 'stop', 'index': 0, 'logpro...</td>\n",
       "      <td>Chatbot Arena</td>\n",
       "      <td>This prompt requires problem-solving skills an...</td>\n",
       "      <td>8</td>\n",
       "      <td>Chatbot Arena</td>\n",
       "      <td>This prompt requires the AI to engage in probl...</td>\n",
       "      <td>8</td>\n",
       "      <td>Chatbot Arena</td>\n",
       "      <td>This prompt requires problem-solving skills an...</td>\n",
       "      <td>8</td>\n",
       "    </tr>\n",
       "    <tr>\n",
       "      <th>4</th>\n",
       "      <td>adf27e819a3c494cb6e993f0c660e097</td>\n",
       "      <td>When is it today?</td>\n",
       "      <td>[{'finish_reason': 'stop', 'index': 0, 'logpro...</td>\n",
       "      <td>Time Query</td>\n",
       "      <td>This prompt is very straightforward and does n...</td>\n",
       "      <td>2</td>\n",
       "      <td>Date Inquiry</td>\n",
       "      <td>This prompt is very straightforward and does n...</td>\n",
       "      <td>2</td>\n",
       "      <td>Time-based Inquiry</td>\n",
       "      <td>This prompt is too straightforward and simply ...</td>\n",
       "      <td>2</td>\n",
       "    </tr>\n",
       "  </tbody>\n",
       "</table>\n",
       "</div>"
      ],
      "text/plain": [
       "                        question_id  \\\n",
       "0  58210e39b3fd4441a2bd4a518bb44c2d   \n",
       "1  2564acd09e3942fd97657d05282d4389   \n",
       "2  90bfd142157948aba01931726c888e7f   \n",
       "3  a7c5accc53e649a3bc6b2e41d962ebc4   \n",
       "4  adf27e819a3c494cb6e993f0c660e097   \n",
       "\n",
       "                                              prompt  \\\n",
       "0    What is the difference between OpenCL and CUDA?   \n",
       "1  Why did my parent not invite me to their wedding?   \n",
       "2                   Fuji vs. Nikon, which is better?   \n",
       "3                How to build an arena for chatbots?   \n",
       "4                                  When is it today?   \n",
       "\n",
       "                    openai_scores_raw_choices_nested      topic_modeling_1  \\\n",
       "0  [{'finish_reason': 'stop', 'index': 0, 'logpro...  Technical Comparison   \n",
       "1  [{'finish_reason': 'stop', 'index': 0, 'logpro...    Reasoning, Emotion   \n",
       "2  [{'finish_reason': 'stop', 'index': 0, 'logpro...     Camera comparison   \n",
       "3  [{'finish_reason': 'stop', 'index': 0, 'logpro...         Chatbot Arena   \n",
       "4  [{'finish_reason': 'stop', 'index': 0, 'logpro...            Time Query   \n",
       "\n",
       "                                      score_reason_1 score_value_1  \\\n",
       "0  This prompt requires the AI to accurately comp...             9   \n",
       "1  This prompt requires the AI to understand huma...             9   \n",
       "2  This prompt does not require problem-solving s...             2   \n",
       "3  This prompt requires problem-solving skills an...             8   \n",
       "4  This prompt is very straightforward and does n...             2   \n",
       "\n",
       "          topic_modeling_2                                     score_reason_2  \\\n",
       "0      Software Comparison  This prompt assesses the AI's factual accuracy...   \n",
       "1  Emotions, Relationships  This prompt involves understanding complex hum...   \n",
       "2     Comparative Analysis  This prompt assesses the AI's ability to analy...   \n",
       "3            Chatbot Arena  This prompt requires the AI to engage in probl...   \n",
       "4             Date Inquiry  This prompt is very straightforward and does n...   \n",
       "\n",
       "  score_value_2        topic_modeling_3  \\\n",
       "0             8  Comparison, Technology   \n",
       "1             8    Reasoning, Emotional   \n",
       "2             6  Photography comparison   \n",
       "3             8           Chatbot Arena   \n",
       "4             2      Time-based Inquiry   \n",
       "\n",
       "                                      score_reason_3 score_value_3  \n",
       "0  This prompt requires the AI to demonstrate kno...             9  \n",
       "1  This prompt challenges the AI to infer motives...             8  \n",
       "2  This prompt is subjective and does not provide...             2  \n",
       "3  This prompt requires problem-solving skills an...             8  \n",
       "4  This prompt is too straightforward and simply ...             2  "
      ]
     },
     "execution_count": 25,
     "metadata": {},
     "output_type": "execute_result"
    }
   ],
   "source": [
    "topic_and_hardness.head(5)"
   ]
  },
  {
   "cell_type": "markdown",
   "id": "04c1780b-4252-4ee7-85ac-a8670ce6d13c",
   "metadata": {},
   "source": [
    "**Understand the Structure**\n",
    "How are the topic modeling and hardness scores structured across the dataset?\n",
    "- Look at the columns `topic_modeling_1`, `score_reason_1`, `score_value_1`, etc.\n",
    "- How consistent are the values across the rows? Do they follow a pattern? Are there any irregularities or unexpected values?"
   ]
  },
  {
   "cell_type": "code",
   "execution_count": 26,
   "id": "0f5b4265",
   "metadata": {},
   "outputs": [
    {
     "name": "stdout",
     "output_type": "stream",
     "text": [
      "\n",
      "Unique Values in 'score_reason_1':\n",
      "[\"This prompt requires the AI to accurately compare and contrast two distinct technologies, OpenCL and CUDA. It assesses the AI's factual accuracy and knowledge of these technologies, as well as its ability to articulate the differences between them.\"\n",
      " 'This prompt requires the AI to understand human emotions and relationships, as well as think critically to generate plausible reasons.'\n",
      " 'This prompt does not require problem-solving skills, creativity, or factual accuracy as it is subjective in nature and based on personal preferences rather than objective criteria.'\n",
      " ...\n",
      " 'This prompt requires the AI to demonstrate problem-solving skills by explaining how to train a model for stable diffusion and select hyperparameters effectively. It also involves creativity in the explanation process. Additionally, the AI needs to adhere to real-world facts when discussing the training process and hyperparameter selection. Training the model using Gradio adds a practical element to the task.'\n",
      " \"This prompt primarily assesses the AI's proficiency in language processing and understanding the quality of text generation, which involves problem-solving and creativity.\"\n",
      " 'This prompt requires the AI to demonstrate knowledge of using Power Automate for creating a complex workflow integrating two SharePoint sites. It assesses problem-solving skills in setting up intricate processes and the ability to navigate SharePoint functionalities.']\n",
      "Number of Unique Reasons in 'score_reason_1': 25172\n",
      "\n",
      "Unique Values in 'score_reason_2':\n",
      "[\"This prompt assesses the AI's factual accuracy in distinguishing between two similar but distinct software frameworks.\"\n",
      " 'This prompt involves understanding complex human emotions, intentions, and relationships, which can be challenging for an AI to navigate and respond appropriately.'\n",
      " \"This prompt assesses the AI's ability to analyze and compare two different entities based on various criteria such as features, performance, reviews, etc. It also requires the AI to weigh the pros and cons of each option to determine a subjective 'better' choice.\"\n",
      " ...\n",
      " 'This prompt requires a deep understanding of machine learning algorithms, hyperparameter optimization, and practical implementation using Gradio. It challenges the AI to showcase problem-solving skills in optimizing a specific algorithm for stable diffusion and creativity in adapting the training process to a user-friendly interface. The prompt also demands factual accuracy in explaining the concepts thoroughly.'\n",
      " \"This prompt requires understanding of language model evaluation metrics, critical thinking, and domain knowledge to assess the quality of the output. It can gauge the AI's problem-solving skills by testing its ability to evaluate complex language models effectively.\"\n",
      " \"This prompt assesses the AI's problem-solving skills by requiring it to understand and explain the intricacies of setting up a publishing workflow between two SharePoint sites using Power Automate. It also tests the AI's ability to accurately follow and explain technical steps.\"]\n",
      "Number of Unique Reasons in 'score_reason_2': 25171\n",
      "\n",
      "Unique Values in 'score_reason_3':\n",
      "[\"This prompt requires the AI to demonstrate knowledge of two different technologies, compare their features, and explain their distinctions. This task assesses the AI's factual accuracy and proficiency in understanding complex technological concepts.\"\n",
      " 'This prompt challenges the AI to infer motives behind human behavior, considering emotions and relationships.'\n",
      " 'This prompt is subjective and does not provide a clear criteria for evaluation. It does not require problem-solving, creativity, or factual accuracy.'\n",
      " ...\n",
      " \"This prompt requires the AI to demonstrate problem-solving skills in optimizing hyperparameters for training LoRa for stable diffusion. It also tests the AI's understanding of the training process in a practical application like Gradio.\"\n",
      " \"This prompt focuses on evaluating a language model output, which involves assessing the quality, coherence, and relevance of the generated text. It requires critical thinking to determine the accuracy and fluency of the language model's output, thus testing the AI's problem-solving skills and adherence to real-world language rules.\"\n",
      " \"This task requires problem-solving skills and knowledge of Power Automate to set up a complex publishing workflow between different SharePoint sites. It involves connecting multiple steps and dependencies, which can assess the AI's proficiency in automation and problem-solving.\"]\n",
      "Number of Unique Reasons in 'score_reason_3': 25167\n"
     ]
    }
   ],
   "source": [
    "# List of score_reason columns\n",
    "score_reason_columns = ['score_reason_1', 'score_reason_2', 'score_reason_3']\n",
    "\n",
    "# Iterate through each score_reason column and display unique values\n",
    "for col in score_reason_columns:\n",
    "    print(f\"\\nUnique Values in '{col}':\")\n",
    "    print(topic_and_hardness[col].unique())\n",
    "    print(f\"Number of Unique Reasons in '{col}': {topic_and_hardness[col].nunique()}\")\n"
   ]
  },
  {
   "cell_type": "code",
   "execution_count": 27,
   "id": "ae933f81",
   "metadata": {},
   "outputs": [
    {
     "name": "stdout",
     "output_type": "stream",
     "text": [
      "\n",
      "Data Types of 'score_value_X' Columns:\n",
      "score_value_1    object\n",
      "score_value_2    object\n",
      "score_value_3    object\n",
      "dtype: object\n"
     ]
    }
   ],
   "source": [
    "# List of score_value columns\n",
    "score_value_columns = ['score_value_1', 'score_value_2', 'score_value_3']\n",
    "\n",
    "# Check data types\n",
    "print(\"\\nData Types of 'score_value_X' Columns:\")\n",
    "print(topic_and_hardness[score_value_columns].dtypes)\n"
   ]
  },
  {
   "cell_type": "code",
   "execution_count": 28,
   "id": "510999fb",
   "metadata": {},
   "outputs": [
    {
     "name": "stdout",
     "output_type": "stream",
     "text": [
      "Number of lists in 'score_value_1': 469\n",
      "Number of lists in 'score_value_2': 443\n",
      "Number of lists in 'score_value_3': 475\n"
     ]
    }
   ],
   "source": [
    "# Function to check if entry is a list\n",
    "def is_list(x):\n",
    "    return isinstance(x, list)\n",
    "\n",
    "# Check for lists in each score_value column\n",
    "for col in score_value_columns:\n",
    "    num_lists = topic_and_hardness[col].apply(is_list).sum()\n",
    "    print(f\"Number of lists in '{col}': {num_lists}\")\n"
   ]
  },
  {
   "cell_type": "markdown",
   "id": "ac487283-c64e-45e0-a215-b3494042a8d8",
   "metadata": {},
   "source": [
    "**Data Cleaning**\n",
    "The following are some of the things (many) you should explore to clean your data:\n",
    "- Are there any missing values?\n",
    "- The data in the `openai_scores_raw_choices_nested` field appears messy. It contains a list of nested dictionaries that might need to be flattened for easier analysis. Consider these points:\n",
    "    - Do you need all the nested data? Perhaps you only need the final hardness scores and topic modeling results for your analysis.\n",
    "    - One way to deal with the nested openai_scores_raw_choices_nested field is to flatten it into more readable columns if you find you need the nested data.\n",
    "- Sometimes, there could be repeated entries in the dataset. Make sure that each question (question_id) and its corresponding responses are unique."
   ]
  },
  {
   "cell_type": "markdown",
   "id": "f388a828-059c-47fc-a63b-5522e1ee0b43",
   "metadata": {},
   "source": [
    "Let’s begin by checking for missing values in our dataset."
   ]
  },
  {
   "cell_type": "code",
   "execution_count": 29,
   "id": "6d0999b9-1e01-4422-be03-9ccb160872e4",
   "metadata": {},
   "outputs": [
    {
     "data": {
      "text/plain": [
       "question_id                          0\n",
       "prompt                               0\n",
       "openai_scores_raw_choices_nested     0\n",
       "topic_modeling_1                    26\n",
       "score_reason_1                      26\n",
       "score_value_1                       26\n",
       "topic_modeling_2                    26\n",
       "score_reason_2                      26\n",
       "score_value_2                       26\n",
       "topic_modeling_3                    26\n",
       "score_reason_3                      26\n",
       "score_value_3                       26\n",
       "dtype: int64"
      ]
     },
     "execution_count": 29,
     "metadata": {},
     "output_type": "execute_result"
    }
   ],
   "source": [
    "topic_and_hardness.isnull().sum()"
   ]
  },
  {
   "cell_type": "markdown",
   "id": "aa314486-3380-4c66-8bc1-184c92cb237c",
   "metadata": {},
   "source": [
    "What are some strategies for handling missing values?"
   ]
  },
  {
   "cell_type": "code",
   "execution_count": 30,
   "id": "8f3bf682",
   "metadata": {},
   "outputs": [
    {
     "name": "stdout",
     "output_type": "stream",
     "text": [
      "Original Size: 25282\n",
      "After Removal: 25256\n"
     ]
    }
   ],
   "source": [
    "\n",
    "# Define the columns to check for missing values\n",
    "columns_with_missing = [\n",
    "    'topic_modeling_1', 'score_reason_1', 'score_value_1',\n",
    "    'topic_modeling_2', 'score_reason_2', 'score_value_2',\n",
    "    'topic_modeling_3', 'score_reason_3', 'score_value_3'\n",
    "]\n",
    "\n",
    "# Drop rows where any of the specified columns have missing values\n",
    "topic_and_hardness_cleaned = topic_and_hardness.dropna(subset=columns_with_missing)\n",
    "\n",
    "# Verify the new shape\n",
    "print(f\"Original Size: {topic_and_hardness.shape[0]}\")\n",
    "print(f\"After Removal: {topic_and_hardness_cleaned.shape[0]}\")"
   ]
  },
  {
   "cell_type": "markdown",
   "id": "bfb936ab-4d91-4913-abab-b6975a86a883",
   "metadata": {},
   "source": [
    "Messy data is not only about missing values, it can also be about inconsistent formatting. Let's check for inconsistencies in the `score_value_1` column of the dataset. The `score_value_1` field should contain numerical values representing hardness scores. However, sometimes data can be messy, and we might encounter values that are not in the expected format (e.g., lists instead of single numbers).\n",
    "\n",
    "The code below demonstrates how to identify rows where `score_value_1` is incorrectly formatted as a list:"
   ]
  },
  {
   "cell_type": "code",
   "execution_count": 31,
   "id": "4f073fdd-f625-490b-829e-1f4a97449456",
   "metadata": {},
   "outputs": [
    {
     "data": {
      "text/plain": [
       "12     [[8]]\n",
       "48     [[7]]\n",
       "86     [[7]]\n",
       "144    [[8]]\n",
       "181    [[7]]\n",
       "Name: score_value_1, dtype: object"
      ]
     },
     "execution_count": 31,
     "metadata": {},
     "output_type": "execute_result"
    }
   ],
   "source": [
    "topic_and_hardness_cleaned[\"score_value_1\"][\n",
    "    topic_and_hardness_cleaned[\"score_value_1\"].apply(lambda x: isinstance(x, list))\n",
    "].head()"
   ]
  },
  {
   "cell_type": "code",
   "execution_count": 32,
   "id": "6d21d61c",
   "metadata": {},
   "outputs": [
    {
     "name": "stdout",
     "output_type": "stream",
     "text": [
      "Unique Data Types in 'score_value_1': [<class 'int'> <class 'list'> <class 'float'>]\n"
     ]
    }
   ],
   "source": [
    "# Inspect unique types in 'score_value_1'\n",
    "unique_types = topic_and_hardness_cleaned['score_value_1'].apply(type).unique()\n",
    "print(\"Unique Data Types in 'score_value_1':\", unique_types)\n"
   ]
  },
  {
   "cell_type": "code",
   "execution_count": 33,
   "id": "06a7d244",
   "metadata": {},
   "outputs": [
    {
     "name": "stdout",
     "output_type": "stream",
     "text": [
      "Nesting Types in 'score_value_1': ['Single Value' 'List of Lists']\n"
     ]
    }
   ],
   "source": [
    "# Function to check if elements are lists and their nesting level\n",
    "def check_nesting(x):\n",
    "    if isinstance(x, list):\n",
    "        if all(isinstance(item, list) for item in x):\n",
    "            return \"List of Lists\"\n",
    "        else:\n",
    "            return \"List\"\n",
    "    else:\n",
    "        return \"Single Value\"\n",
    "\n",
    "# Apply the function and get unique nesting types\n",
    "nesting_types = topic_and_hardness_cleaned['score_value_1'].apply(check_nesting).unique()\n",
    "print(\"Nesting Types in 'score_value_1':\", nesting_types)\n"
   ]
  },
  {
   "cell_type": "code",
   "execution_count": 34,
   "id": "99bf2158",
   "metadata": {},
   "outputs": [],
   "source": [
    "def clean_score_value(x):\n",
    "    \"\"\"\n",
    "    Cleans the 'score_value_1' entry by flattening nested lists and computing the average.\n",
    "    \n",
    "    Parameters:\n",
    "    - x: The entry in 'score_value_1'.\n",
    "    \n",
    "    Returns:\n",
    "    - float: The average hardness score or NaN if invalid.\n",
    "    \"\"\"\n",
    "    if isinstance(x, list):\n",
    "        # Flatten the list (handle multiple nesting levels)\n",
    "        flat_list = []\n",
    "        for item in x:\n",
    "            if isinstance(item, list):\n",
    "                flat_list.extend(item)\n",
    "            else:\n",
    "                flat_list.append(item)\n",
    "        # Filter out non-numeric values\n",
    "        numeric_scores = [score for score in flat_list if isinstance(score, (int, float))]\n",
    "        if numeric_scores:\n",
    "            return np.mean(numeric_scores)\n",
    "        else:\n",
    "            return np.nan  # Assign NaN if no numeric scores are found\n",
    "    elif isinstance(x, (int, float)):\n",
    "        return float(x)\n",
    "    else:\n",
    "        return np.nan  # Assign NaN for unexpected data types"
   ]
  },
  {
   "cell_type": "code",
   "execution_count": 35,
   "id": "8d0884aa",
   "metadata": {},
   "outputs": [
    {
     "name": "stdout",
     "output_type": "stream",
     "text": [
      "\n",
      "Transformed 'score_value_1':\n",
      "0    9.0\n",
      "1    9.0\n",
      "2    2.0\n",
      "3    8.0\n",
      "4    2.0\n",
      "Name: score_value_1, dtype: float64\n"
     ]
    },
    {
     "name": "stderr",
     "output_type": "stream",
     "text": [
      "C:\\Users\\daisy\\AppData\\Local\\Temp\\ipykernel_7356\\741669419.py:2: SettingWithCopyWarning: \n",
      "A value is trying to be set on a copy of a slice from a DataFrame.\n",
      "Try using .loc[row_indexer,col_indexer] = value instead\n",
      "\n",
      "See the caveats in the documentation: https://pandas.pydata.org/pandas-docs/stable/user_guide/indexing.html#returning-a-view-versus-a-copy\n",
      "  topic_and_hardness_cleaned['score_value_1'] = topic_and_hardness_cleaned['score_value_1'].apply(clean_score_value)\n"
     ]
    }
   ],
   "source": [
    "# Apply the cleaning function to 'score_value_1'\n",
    "topic_and_hardness_cleaned['score_value_1'] = topic_and_hardness_cleaned['score_value_1'].apply(clean_score_value)\n",
    "\n",
    "# Verify the transformation\n",
    "print(\"\\nTransformed 'score_value_1':\")\n",
    "print(topic_and_hardness_cleaned['score_value_1'].head())\n"
   ]
  },
  {
   "cell_type": "code",
   "execution_count": 36,
   "id": "36679e37",
   "metadata": {},
   "outputs": [
    {
     "name": "stdout",
     "output_type": "stream",
     "text": [
      "Number of lists in 'score_value_1': 0\n",
      "Number of lists in 'score_value_2': 0\n",
      "Number of lists in 'score_value_3': 0\n"
     ]
    },
    {
     "name": "stderr",
     "output_type": "stream",
     "text": [
      "C:\\Users\\daisy\\AppData\\Local\\Temp\\ipykernel_7356\\2169771200.py:6: SettingWithCopyWarning: \n",
      "A value is trying to be set on a copy of a slice from a DataFrame.\n",
      "Try using .loc[row_indexer,col_indexer] = value instead\n",
      "\n",
      "See the caveats in the documentation: https://pandas.pydata.org/pandas-docs/stable/user_guide/indexing.html#returning-a-view-versus-a-copy\n",
      "  topic_and_hardness_cleaned[col] = topic_and_hardness[col].apply(clean_score_value)\n"
     ]
    }
   ],
   "source": [
    "# Define the score_value columns\n",
    "score_value_columns = ['score_value_1', 'score_value_2', 'score_value_3']\n",
    "\n",
    "# Apply the cleaning function to each score_value column\n",
    "for col in score_value_columns:\n",
    "    topic_and_hardness_cleaned[col] = topic_and_hardness[col].apply(clean_score_value)\n",
    "\n",
    "# Verify that there are no lists left\n",
    "for col in score_value_columns:\n",
    "    num_lists = topic_and_hardness_cleaned[col].apply(lambda x: isinstance(x, list)).sum()\n",
    "    print(f\"Number of lists in '{col}': {num_lists}\")\n"
   ]
  },
  {
   "cell_type": "code",
   "execution_count": 37,
   "id": "e98d18d8",
   "metadata": {},
   "outputs": [
    {
     "name": "stdout",
     "output_type": "stream",
     "text": [
      "\n",
      "NaN Counts After Cleaning:\n",
      "score_value_1    0\n",
      "score_value_2    0\n",
      "score_value_3    0\n",
      "dtype: int64\n"
     ]
    }
   ],
   "source": [
    "# Check for NaN values in score_value columns\n",
    "nan_counts = topic_and_hardness_cleaned[score_value_columns].isnull().sum()\n",
    "print(\"\\nNaN Counts After Cleaning:\")\n",
    "print(nan_counts)\n",
    "\n",
    "# Decide on imputation strategy\n",
    "# For numerical scores, impute with the median\n",
    "for col in score_value_columns:\n",
    "    if topic_and_hardness_cleaned[col].isnull().sum() > 0:\n",
    "        median_val = topic_and_hardness_cleaned[col].median()\n",
    "        topic_and_hardness_cleaned[col].fillna(median_val, inplace=True)\n",
    "        print(f\"Imputed NaN in '{col}' with median value: {median_val}\")\n"
   ]
  },
  {
   "cell_type": "code",
   "execution_count": 38,
   "id": "fe7c0c14",
   "metadata": {},
   "outputs": [
    {
     "name": "stderr",
     "output_type": "stream",
     "text": [
      "C:\\Users\\daisy\\AppData\\Local\\Temp\\ipykernel_7356\\663214805.py:6: SettingWithCopyWarning: \n",
      "A value is trying to be set on a copy of a slice from a DataFrame.\n",
      "Try using .loc[row_indexer,col_indexer] = value instead\n",
      "\n",
      "See the caveats in the documentation: https://pandas.pydata.org/pandas-docs/stable/user_guide/indexing.html#returning-a-view-versus-a-copy\n",
      "  topic_and_hardness_cleaned[col] = topic_and_hardness_cleaned[col].apply(clean_score_value)\n"
     ]
    },
    {
     "name": "stdout",
     "output_type": "stream",
     "text": [
      "Number of lists in 'score_value_1': 0\n",
      "Number of lists in 'score_value_2': 0\n",
      "Number of lists in 'score_value_3': 0\n"
     ]
    }
   ],
   "source": [
    "# Define the score_value columns\n",
    "score_value_columns = ['score_value_1', 'score_value_2', 'score_value_3']\n",
    "\n",
    "# Apply the cleaning function to each score_value column\n",
    "for col in score_value_columns:\n",
    "    topic_and_hardness_cleaned[col] = topic_and_hardness_cleaned[col].apply(clean_score_value)\n",
    "\n",
    "# Verify that there are no lists left\n",
    "for col in score_value_columns:\n",
    "    num_lists = topic_and_hardness_cleaned[col].apply(lambda x: isinstance(x, list)).sum()\n",
    "    print(f\"Number of lists in '{col}': {num_lists}\")\n"
   ]
  },
  {
   "cell_type": "markdown",
   "id": "1779a36b-9613-4223-b480-c9af74bac103",
   "metadata": {},
   "source": [
    "Why do you think `score_value_1` contains lists instead of single values? What might have caused this? What steps would you take to fix this issue so that `score_value_1` contains only numeric values? Are there any other columns that might have similar issues?"
   ]
  },
  {
   "cell_type": "markdown",
   "id": "8ed014e7-fa5f-4b8e-8720-a4453cc7158a",
   "metadata": {},
   "source": [
    "Once you clean the dataset, you can start your analysis by think about the following questions:\n",
    "- Do models perform differently based on hardness scores?\n",
    "- What are the most common topics in the dataset?\n",
    "- Which topics tend to have higher hardness scores?"
   ]
  },
  {
   "cell_type": "markdown",
   "id": "bbc3be19-44db-4816-b8eb-96e26eb176fc",
   "metadata": {},
   "source": [
    "## Summary and Next Steps\n",
    "\n",
    "You've now explored various aspects of the dataset, including prompt lengths, response lengths, and embeddings, as well as handling messy data. As you proceed, it's important to remember the key **EDA requirements** for this milestone:\n",
    "\n",
    "1. **Ranking of the model based on their win rate or ELO ratings**\n",
    "2. **Distribution of the prompt and response length** \n",
    "4. **Hardness score distribution and its correlation with the models** \n",
    "5. **Open-ended: Visualize the \"variance\" in model performance**\n",
    "6. **Open-ended: Explore the prompt topics in the dataset (topic modeling)**\n",
    "\n",
    "### What Have You Discovered?\n",
    "\n",
    "Now that you've completed the initial exploration through this notebook, think about the following:\n",
    "\n",
    "- **Which insights surprised you?**  \n",
    "- **What further questions would you ask based on the patterns you've seen?**  \n",
    "- **Which analyses are still missing or could be extended?**\n",
    "\n",
    "This notebook provides a foundation for your EDA, but the real insights will come from the questions you ask and the deeper analyses you conduct. Use this notebook as a starting point to explore relationships in the data that will help inform your understanding of chatbot performance. By formulating and answering your questions as a team, you'll gain a richer understanding of the dataset and get ready for the modeling tasks."
   ]
  }
 ],
 "metadata": {
  "kernelspec": {
   "display_name": "Python 3",
   "language": "python",
   "name": "python3"
  },
  "language_info": {
   "codemirror_mode": {
    "name": "ipython",
    "version": 3
   },
   "file_extension": ".py",
   "mimetype": "text/x-python",
   "name": "python",
   "nbconvert_exporter": "python",
   "pygments_lexer": "ipython3",
   "version": "3.11.5"
  }
 },
 "nbformat": 4,
 "nbformat_minor": 5
}
