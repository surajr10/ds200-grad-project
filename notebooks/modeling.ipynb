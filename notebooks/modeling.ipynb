{
 "cells": [
  {
   "cell_type": "code",
   "execution_count": 1,
   "metadata": {},
   "outputs": [],
   "source": [
    "# Import all the models and functions\n",
    "from models import *"
   ]
  },
  {
   "cell_type": "markdown",
   "metadata": {},
   "source": [
    "# Example of using a model"
   ]
  },
  {
   "cell_type": "code",
   "execution_count": 9,
   "metadata": {},
   "outputs": [
    {
     "name": "stdout",
     "output_type": "stream",
     "text": [
      "       prompt_length\n",
      "8684              20\n",
      "3273              13\n",
      "12870              7\n",
      "25162            100\n",
      "17897             10\n",
      "...              ...\n",
      "21589             27\n",
      "5392              43\n",
      "861               25\n",
      "15808              7\n",
      "23668            177\n",
      "\n",
      "[17679 rows x 1 columns]\n",
      "3.086841757951696\n"
     ]
    }
   ],
   "source": [
    "# Load data\n",
    "topic_and_hardness = pd.read_json(\n",
    "    \"../data/training-set/chatbot-arena-gpt3-scores.jsonl.gz\",\n",
    "    lines=True,\n",
    "    compression=\"gzip\"\n",
    ")\n",
    "# Perform any feature engineering\n",
    "pattern_z = r\"\\b\\w+\\b\"\n",
    "topic_and_hardness['prompt_length'] = topic_and_hardness['prompt'].apply(lambda x: len(re.findall(pattern_z, x)))\n",
    "topic_and_hardness = topic_and_hardness.dropna()\n",
    "# Create a model\n",
    "mlr = MultiLinearRegressionModel(topic_and_hardness, regularization='l1')\n",
    "# Preprocess the data with the features you want to use\n",
    "mlr.preprocess(features=['prompt_length'])\n",
    "# Train the model\n",
    "mlr.train_model()\n",
    "# Evaluate the model based on a prediction\n",
    "mlr.evaluate(mlr.predict())"
   ]
  },
  {
   "cell_type": "code",
   "execution_count": null,
   "metadata": {},
   "outputs": [],
   "source": []
  }
 ],
 "metadata": {
  "kernelspec": {
   "display_name": "data200-grad-project",
   "language": "python",
   "name": "python3"
  },
  "language_info": {
   "codemirror_mode": {
    "name": "ipython",
    "version": 3
   },
   "file_extension": ".py",
   "mimetype": "text/x-python",
   "name": "python",
   "nbconvert_exporter": "python",
   "pygments_lexer": "ipython3",
   "version": "3.9.20"
  }
 },
 "nbformat": 4,
 "nbformat_minor": 2
}
