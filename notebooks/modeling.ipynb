{
 "cells": [
  {
   "cell_type": "code",
   "execution_count": 32,
   "metadata": {},
   "outputs": [
    {
     "data": {
      "text/plain": [
       "<module 'models' from '/Users/surajr/classes/msse/ds200/grad-project/notebooks/models.py'>"
      ]
     },
     "execution_count": 32,
     "metadata": {},
     "output_type": "execute_result"
    }
   ],
   "source": [
    "# Import all the models and functions\n",
    "import importlib\n",
    "import models\n",
    "importlib.reload(models)"
   ]
  },
  {
   "cell_type": "markdown",
   "metadata": {},
   "source": [
    "# Example of using a model"
   ]
  },
  {
   "cell_type": "code",
   "execution_count": 21,
   "metadata": {},
   "outputs": [
    {
     "name": "stdout",
     "output_type": "stream",
     "text": [
      "The MSE is:  3.139633100171572\n"
     ]
    }
   ],
   "source": [
    "# Load data\n",
    "topic_and_hardness = pd.read_json(\n",
    "    \"../data/training-set/chatbot-arena-gpt3-scores.jsonl.gz\",\n",
    "    lines=True,\n",
    "    compression=\"gzip\"\n",
    ")\n",
    "# Perform any feature engineering\n",
    "pattern_z = r\"\\b\\w+\\b\"\n",
    "topic_and_hardness['prompt_length'] = topic_and_hardness['prompt'].apply(lambda x: len(re.findall(pattern_z, x)))\n",
    "topic_and_hardness = topic_and_hardness.dropna()\n",
    "# Create a model\n",
    "mlr = models.MultiLinearRegressionModel(topic_and_hardness, regularization='l1')\n",
    "# Preprocess the data with the features you want to use\n",
    "mlr.preprocess(features=['prompt_length'])\n",
    "# Train the model\n",
    "mlr.train_model()\n",
    "# Evaluate the model based on a prediction\n",
    "mlr.evaluate(mlr.predict())"
   ]
  },
  {
   "cell_type": "code",
   "execution_count": 33,
   "metadata": {},
   "outputs": [
    {
     "name": "stdout",
     "output_type": "stream",
     "text": [
      "18.263910933739215\n",
      "[[1215 1517]\n",
      " [1199 1429]]\n"
     ]
    }
   ],
   "source": [
    "convos_df = pd.read_json(\n",
    "    \"../data/training-set/chatbot-arena-conversations.jsonl.gz\",\n",
    "    lines=True,\n",
    "    compression=\"gzip\"\n",
    ")\n",
    "# Perform any feature engineering\n",
    "convos_df[\"prompt\"] = convos_df[\"conversation_a\"].str[0].str[\"content\"]\n",
    "convos_df['prompt_length'] = convos_df['prompt'].apply(lambda x: len(re.findall(pattern_z, x)))\n",
    "convos_df = convos_df.dropna()\n",
    "# Create a model\n",
    "lr = models.RandomForestModel(convos_df)\n",
    "# Preprocess the data with the features you want to use\n",
    "lr.preprocess(features=['prompt_length'])\n",
    "# Train the model\n",
    "lr.train_model()\n",
    "# Evaluate the model based on a prediction\n",
    "lr.evaluate(lr.predict())"
   ]
  },
  {
   "cell_type": "code",
   "execution_count": null,
   "metadata": {},
   "outputs": [],
   "source": []
  }
 ],
 "metadata": {
  "kernelspec": {
   "display_name": "data200-grad-project",
   "language": "python",
   "name": "python3"
  },
  "language_info": {
   "codemirror_mode": {
    "name": "ipython",
    "version": 3
   },
   "file_extension": ".py",
   "mimetype": "text/x-python",
   "name": "python",
   "nbconvert_exporter": "python",
   "pygments_lexer": "ipython3",
   "version": "3.9.20"
  }
 },
 "nbformat": 4,
 "nbformat_minor": 2
}
