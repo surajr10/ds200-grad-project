{
 "cells": [
  {
   "cell_type": "code",
   "execution_count": 487,
   "metadata": {},
   "outputs": [],
   "source": [
    "import importlib\n",
    "import models\n",
    "import text_feature_engine\n",
    "import embedding_feature_engine\n",
    "import hardness_feature_engine\n",
    "import numpy as np\n",
    "import pandas as pd"
   ]
  },
  {
   "cell_type": "code",
   "execution_count": 427,
   "metadata": {},
   "outputs": [
    {
     "data": {
      "text/plain": [
       "<module 'hardness_feature_engine' from '/Users/surajr/classes/msse/ds200/grad-project/analysis/hardness_feature_engine.py'>"
      ]
     },
     "execution_count": 427,
     "metadata": {},
     "output_type": "execute_result"
    }
   ],
   "source": [
    "importlib.reload(models)\n",
    "importlib.reload(embedding_feature_engine)\n",
    "importlib.reload(text_feature_engine)\n",
    "importlib.reload(hardness_feature_engine)"
   ]
  },
  {
   "cell_type": "markdown",
   "metadata": {
    "vscode": {
     "languageId": "sql"
    }
   },
   "source": [
    "# Data Loading / Processing"
   ]
  },
  {
   "cell_type": "code",
   "execution_count": 113,
   "metadata": {},
   "outputs": [],
   "source": [
    "test_convos = pd.read_json(\n",
    "    \"../data/test-set/arena-test-set-prompt-and-responses.jsonl.gz\",\n",
    "    lines=True,\n",
    "    compression=\"gzip\"\n",
    ")\n",
    "\n",
    "df = pd.read_json(\n",
    "    \"../data/training-set/chatbot-arena-conversations.jsonl.gz\",\n",
    "    lines=True,\n",
    "    compression=\"gzip\"\n",
    ")\n",
    "\n",
    "train_scores_df = pd.read_json(\n",
    "    \"../data/training-set/chatbot-arena-gpt3-scores.jsonl.gz\",\n",
    "    lines=True,\n",
    "    compression=\"gzip\"\n",
    ")"
   ]
  },
  {
   "cell_type": "code",
   "execution_count": 428,
   "metadata": {},
   "outputs": [],
   "source": [
    "text_engine = text_feature_engine.TextFeatureEngine()\n",
    "embedding_engine = embedding_feature_engine.EmbeddingFeatureEngine()\n",
    "hardness_engine = hardness_feature_engine.HardnessFeatureEngine()"
   ]
  },
  {
   "cell_type": "code",
   "execution_count": 429,
   "metadata": {},
   "outputs": [
    {
     "name": "stdout",
     "output_type": "stream",
     "text": [
      "Loaded embeddings with shapes:\n",
      "Train Prompt embeddings: (25282, 256)\n",
      "Train Response A embeddings: (25282, 256)\n",
      "Train Response B embeddings: (25282, 256)\n",
      "Test Prompt embeddings: (3200, 256)\n",
      "Test Response A embeddings: (3200, 256)\n",
      "Test Response B embeddings: (3200, 256)\n"
     ]
    },
    {
     "name": "stderr",
     "output_type": "stream",
     "text": [
      "python(8715) MallocStackLogging: can't turn off malloc stack logging because it was not enabled.\n",
      "python(8717) MallocStackLogging: can't turn off malloc stack logging because it was not enabled.\n",
      "python(8718) MallocStackLogging: can't turn off malloc stack logging because it was not enabled.\n",
      "python(8719) MallocStackLogging: can't turn off malloc stack logging because it was not enabled.\n",
      "/Users/surajr/opt/anaconda3/envs/data200-grad-project/lib/python3.9/site-packages/sklearn/cluster/_kmeans.py:870: FutureWarning: The default value of `n_init` will change from 10 to 'auto' in 1.4. Set the value of `n_init` explicitly to suppress the warning\n",
      "  warnings.warn(\n",
      "/Users/surajr/opt/anaconda3/envs/data200-grad-project/lib/python3.9/site-packages/sklearn/cluster/_kmeans.py:870: FutureWarning: The default value of `n_init` will change from 10 to 'auto' in 1.4. Set the value of `n_init` explicitly to suppress the warning\n",
      "  warnings.warn(\n",
      "/Users/surajr/opt/anaconda3/envs/data200-grad-project/lib/python3.9/site-packages/sklearn/cluster/_kmeans.py:870: FutureWarning: The default value of `n_init` will change from 10 to 'auto' in 1.4. Set the value of `n_init` explicitly to suppress the warning\n",
      "  warnings.warn(\n"
     ]
    }
   ],
   "source": [
    "processed_df = text_engine.process_dataframe(\n",
    "    df,\n",
    "    conversation_a_col='conversation_a',\n",
    "    conversation_b_col='conversation_b'\n",
    ")\n",
    "\n",
    "processed_test_df = text_engine.process_dataframe(\n",
    "    test_convos,\n",
    "    conversation_a_col='model_a_response',\n",
    "    conversation_b_col='model_b_response'\n",
    ")\n",
    "\n",
    "clustering_dataframes = embedding_engine.process_dataframe(\n",
    "    train_prompt_embeddings_path=\"../data/training-set/chatbot-arena-prompts-embeddings.npy\",\n",
    "    train_response_a_embeddings_path=\"../data/training-set/chatbot-arena-model_a_response-embeddings.npy\",\n",
    "    train_response_b_embeddings_path=\"../data/training-set/chatbot-arena-model_b_response-embeddings.npy\",\n",
    "    test_prompt_embeddings_path=\"../data/test-set/arena-test-set-prompts-embeddings.npy\",\n",
    "    test_response_a_embeddings_path=\"../data/test-set/arena-test-set-model_a_response-embeddings.npy\",\n",
    "    test_response_b_embeddings_path=\"../data/test-set/arena-test-set-model_b_response-embeddings.npy\",\n",
    ")"
   ]
  },
  {
   "cell_type": "code",
   "execution_count": 430,
   "metadata": {},
   "outputs": [],
   "source": [
    "hdbscan_df_test = clustering_dataframes['test']['hdbscan'].reset_index()\n",
    "kmeans_df_test = clustering_dataframes['test']['kmeans'].reset_index()\n",
    "agglo_df_test = clustering_dataframes['test']['agglo'].reset_index()\n",
    "\n",
    "hdbscan_df_train = clustering_dataframes['train']['hdbscan']\n",
    "kmeans_df_train = clustering_dataframes['train']['kmeans']\n",
    "agglo_df_train = clustering_dataframes['train']['agglo']"
   ]
  },
  {
   "cell_type": "code",
   "execution_count": 431,
   "metadata": {},
   "outputs": [],
   "source": [
    "train_df_hdbscan = pd.concat([processed_df, hdbscan_df_train], axis=1).merge(train_scores_df, on='question_id', how='left')\n",
    "train_df_kmeans = pd.concat([processed_df, kmeans_df_train], axis=1).merge(train_scores_df, on='question_id', how='left')\n",
    "train_df_agglo = pd.concat([processed_df, agglo_df_train], axis=1).merge(train_scores_df, on='question_id', how='left')\n",
    "\n",
    "train_df_hdbscan = train_df_hdbscan.dropna()\n",
    "train_df_kmeans = train_df_kmeans.dropna()\n",
    "train_df_agglo = train_df_agglo.dropna()\n",
    "\n",
    "test_df_hdbscan = pd.concat([processed_test_df, hdbscan_df_test], axis=1)\n",
    "test_df_kmeans = pd.concat([processed_test_df, kmeans_df_test], axis=1)\n",
    "test_df_agglo = pd.concat([processed_test_df, agglo_df_test], axis=1)"
   ]
  },
  {
   "cell_type": "code",
   "execution_count": 432,
   "metadata": {},
   "outputs": [],
   "source": [
    "train_df_hdbscan = hardness_engine.calculate_combined_hardness_score(train_df_hdbscan, ['score_value_1', 'score_value_2', 'score_value_3'])\n",
    "train_df_kmeans = hardness_engine.calculate_combined_hardness_score(train_df_kmeans, ['score_value_1', 'score_value_2', 'score_value_3'])\n",
    "train_df_agglo = hardness_engine.calculate_combined_hardness_score(train_df_agglo, ['score_value_1', 'score_value_2', 'score_value_3'])"
   ]
  },
  {
   "cell_type": "code",
   "execution_count": null,
   "metadata": {},
   "outputs": [],
   "source": [
    "top_10_hardness_features_by_corr = [\n",
    "    'prompt_unique_words',\n",
    "    'prompt_token_length', \n",
    "    'a_response_token_length',\n",
    "    'b_response_token_length',\n",
    "    'prompt_a_keyword_overlap',\n",
    "    'prompt_b_keyword_overlap',\n",
    "    'b_response_unique_words',\n",
    "    'a_response_unique_words',\n",
    "    'response_ab_keyword_overlap',\n",
    "    'a_response_complex_word_count'\n",
    "]\n",
    "\n",
    "top_10_features_by_rf = [\n",
    "    'b_response_token_length',\n",
    "    'cosine_sim_response_a_b',\n",
    "    'a_response_token_length',\n",
    "    'cosine_sim_prompt_response_b',\n",
    "    'cosine_sim_prompt_response_a',\n",
    "    'response_jaccard_similarity',\n",
    "    'prompt_b_jaccard_similarity',\n",
    "    'prompt_a_jaccard_similarity',\n",
    "    'b_response_avg_syllable_count',\n",
    "    'a_response_avg_syllable_count'\n",
    "]\n",
    "\n",
    "top_10_by_coef = ['response_b_clusters_16', 'response_a_gunning_fog',\n",
    "       'response_b_gunning_fog', 'response_ab_keyword_overlap',\n",
    "       'prompt_b_keyword_overlap', 'prompt_unique_words',\n",
    "       'prompt_a_keyword_overlap', 'response_a_unique_words',\n",
    "       'variance_prompt', 'response_b_unique_words']\n",
    "\n",
    "top_10_by_coef_no_clusters = ['response_a_gunning_fog',\n",
    "         'response_b_gunning_fog', 'response_ab_keyword_overlap',\n",
    "            'prompt_b_keyword_overlap', 'prompt_unique_words',\n",
    "            'prompt_a_keyword_overlap', 'response_a_unique_words',\n",
    "            'variance_prompt', 'response_b_unique_words', 'prompt_token_length']\n",
    "\n",
    "\n",
    "\n",
    "all_hdbscan_features = list(train_df_hdbscan.drop(columns=['score_value_1', 'score_value_2', 'score_value_3', 'combined_hardness_score']).select_dtypes(include=['number']).columns)\n",
    "all_kmeans_features = list(train_df_kmeans.drop(columns=['score_value_1', 'score_value_2', 'score_value_3', 'combined_hardness_score']).select_dtypes(include=['number']).columns)\n",
    "all_agglo_features = list(train_df_agglo.drop(columns=['score_value_1', 'score_value_2', 'score_value_3', 'combined_hardness_score']).select_dtypes(include=['number']).columns)\n",
    "\n",
    "top_5_hardness_features_by_corr = top_10_hardness_features_by_corr[:5]\n",
    "features_list = {'all_hdbscan': all_hdbscan_features, 'top_10_coef': top_10_by_coef_no_clusters, 'all_kmeans': all_kmeans_features, 'all_agglo': all_agglo_features}\n",
    "# features_list = {'top_5_corr': top_5_hardness_features_by_corr, 'top_10_corr': top_10_hardness_features_by_corr, 'all': list(hardness_df.drop(columns=['combined_hardness_score']).columns), 'top_5_rf': top_10_features_by_rf[:5], 'top_10_rf': top_10_features_by_rf}\n",
    "regularizations = [None, 'l1', 'l2']\n",
    "tune_hyperparameters = [True, False]"
   ]
  },
  {
   "cell_type": "markdown",
   "metadata": {},
   "source": [
    "# Modeling"
   ]
  },
  {
   "cell_type": "code",
   "execution_count": 434,
   "metadata": {},
   "outputs": [
    {
     "name": "stdout",
     "output_type": "stream",
     "text": [
      "Best parameters:  {'alpha': 0.98}\n",
      "The MSE is:  2.7912435711459844\n"
     ]
    },
    {
     "data": {
      "text/plain": [
       "2.7912435711459844"
      ]
     },
     "execution_count": 434,
     "metadata": {},
     "output_type": "execute_result"
    }
   ],
   "source": [
    "mlr = models.MultiLinearRegressionModel(train_df_kmeans, regularization='l2')\n",
    "mlr.preprocess(features=['variance_prompt','prompt_gunning_fog', 'prompt_complex_word_count', 'prompt_token_length', 'prompt_clusters_1', 'prompt_clusters_2', 'prompt_clusters_3', 'prompt_clusters_4', 'prompt_clusters_5', 'prompt_clusters_6', 'prompt_clusters_7', 'prompt_clusters_8', 'prompt_clusters_9', 'prompt_lexical_diversity'])\n",
    "mlr.train_model(tune_hyperparameters=True)\n",
    "mlr.evaluate(mlr.predict(on_test=True), on_test=True)"
   ]
  },
  {
   "cell_type": "code",
   "execution_count": 433,
   "metadata": {},
   "outputs": [
    {
     "name": "stdout",
     "output_type": "stream",
     "text": [
      "Optimization terminated successfully.\n",
      "         Current function value: 1.480994\n",
      "         Iterations: 45\n",
      "         Function evaluations: 47\n",
      "         Gradient evaluations: 47\n",
      "The MSE is:  3.031517868917315\n"
     ]
    },
    {
     "data": {
      "text/plain": [
       "3.031517868917315"
      ]
     },
     "execution_count": 433,
     "metadata": {},
     "output_type": "execute_result"
    }
   ],
   "source": [
    "ord_model = models.OrdinalRegressionModel(train_df_kmeans)\n",
    "# ord_model.preprocess(features=features_list['all_kmeans'])\n",
    "ord_model.preprocess(features=['variance_prompt','prompt_gunning_fog', 'prompt_complex_word_count', 'prompt_token_length', 'prompt_clusters_1', 'prompt_clusters_2', 'prompt_clusters_3', 'prompt_clusters_4', 'prompt_clusters_5', 'prompt_clusters_6', 'prompt_clusters_7', 'prompt_clusters_8', 'prompt_clusters_9', 'prompt_lexical_diversity'])\n",
    "ord_model.train_model()\n",
    "pred = ord_model.predict(on_test=True)\n",
    "ord_model.evaluate(pred, on_test=True)"
   ]
  },
  {
   "cell_type": "code",
   "execution_count": 340,
   "metadata": {},
   "outputs": [
    {
     "name": "stdout",
     "output_type": "stream",
     "text": [
      "Features:  all_hdbscan\n",
      "Regularization:  None\n",
      "Tune Hyperparameter:  True\n",
      "The MSE is:  2.542265594092048\n",
      "\n",
      "\n",
      "Features:  all_hdbscan\n",
      "Regularization:  None\n",
      "Tune Hyperparameter:  False\n",
      "The MSE is:  2.542265594092048\n",
      "\n",
      "\n",
      "Best parameters:  {'alpha': 0.02}\n",
      "Features:  all_hdbscan\n",
      "Regularization:  l1\n",
      "Tune Hyperparameter:  True\n",
      "The MSE is:  2.6151918765660027\n",
      "\n",
      "\n",
      "Features:  all_hdbscan\n",
      "Regularization:  l1\n",
      "Tune Hyperparameter:  False\n",
      "The MSE is:  3.1254121060266384\n",
      "\n",
      "\n",
      "Best parameters:  {'alpha': 0.98}\n",
      "Features:  all_hdbscan\n",
      "Regularization:  l2\n",
      "Tune Hyperparameter:  True\n",
      "The MSE is:  2.5408149808782805\n",
      "\n",
      "\n",
      "Features:  all_hdbscan\n",
      "Regularization:  l2\n",
      "Tune Hyperparameter:  False\n",
      "The MSE is:  2.5408149808782805\n",
      "\n",
      "\n",
      "Features:  top_10_coef\n",
      "Regularization:  None\n",
      "Tune Hyperparameter:  True\n",
      "The MSE is:  2.542265594092048\n",
      "\n",
      "\n",
      "Features:  top_10_coef\n",
      "Regularization:  None\n",
      "Tune Hyperparameter:  False\n",
      "The MSE is:  2.542265594092048\n",
      "\n",
      "\n",
      "Best parameters:  {'alpha': 0.02}\n",
      "Features:  top_10_coef\n",
      "Regularization:  l1\n",
      "Tune Hyperparameter:  True\n",
      "The MSE is:  2.6151918765660027\n",
      "\n",
      "\n",
      "Features:  top_10_coef\n",
      "Regularization:  l1\n",
      "Tune Hyperparameter:  False\n",
      "The MSE is:  3.1254121060266384\n",
      "\n",
      "\n",
      "Best parameters:  {'alpha': 0.98}\n",
      "Features:  top_10_coef\n",
      "Regularization:  l2\n",
      "Tune Hyperparameter:  True\n",
      "The MSE is:  2.5408149808782805\n",
      "\n",
      "\n",
      "Features:  top_10_coef\n",
      "Regularization:  l2\n",
      "Tune Hyperparameter:  False\n",
      "The MSE is:  2.5408149808782805\n",
      "\n",
      "\n",
      "Features:  all_kmeans\n",
      "Regularization:  None\n",
      "Tune Hyperparameter:  True\n",
      "The MSE is:  2.542265594092048\n",
      "\n",
      "\n",
      "Features:  all_kmeans\n",
      "Regularization:  None\n",
      "Tune Hyperparameter:  False\n",
      "The MSE is:  2.542265594092048\n",
      "\n",
      "\n",
      "Best parameters:  {'alpha': 0.02}\n",
      "Features:  all_kmeans\n",
      "Regularization:  l1\n",
      "Tune Hyperparameter:  True\n",
      "The MSE is:  2.6151918765660027\n",
      "\n",
      "\n",
      "Features:  all_kmeans\n",
      "Regularization:  l1\n",
      "Tune Hyperparameter:  False\n",
      "The MSE is:  3.1254121060266384\n",
      "\n",
      "\n",
      "Best parameters:  {'alpha': 0.98}\n",
      "Features:  all_kmeans\n",
      "Regularization:  l2\n",
      "Tune Hyperparameter:  True\n",
      "The MSE is:  2.5408149808782805\n",
      "\n",
      "\n",
      "Features:  all_kmeans\n",
      "Regularization:  l2\n",
      "Tune Hyperparameter:  False\n",
      "The MSE is:  2.5408149808782805\n",
      "\n",
      "\n",
      "Features:  all_agglo\n",
      "Regularization:  None\n",
      "Tune Hyperparameter:  True\n",
      "The MSE is:  2.542265594092048\n",
      "\n",
      "\n",
      "Features:  all_agglo\n",
      "Regularization:  None\n",
      "Tune Hyperparameter:  False\n",
      "The MSE is:  2.542265594092048\n",
      "\n",
      "\n",
      "Best parameters:  {'alpha': 0.02}\n",
      "Features:  all_agglo\n",
      "Regularization:  l1\n",
      "Tune Hyperparameter:  True\n",
      "The MSE is:  2.6151918765660027\n",
      "\n",
      "\n",
      "Features:  all_agglo\n",
      "Regularization:  l1\n",
      "Tune Hyperparameter:  False\n",
      "The MSE is:  3.1254121060266384\n",
      "\n",
      "\n",
      "Best parameters:  {'alpha': 0.98}\n",
      "Features:  all_agglo\n",
      "Regularization:  l2\n",
      "Tune Hyperparameter:  True\n",
      "The MSE is:  2.5408149808782805\n",
      "\n",
      "\n",
      "Features:  all_agglo\n",
      "Regularization:  l2\n",
      "Tune Hyperparameter:  False\n",
      "The MSE is:  2.5408149808782805\n",
      "\n",
      "\n",
      "Features:  top_10_corr\n",
      "Regularization:  None\n",
      "Tune Hyperparameter:  True\n",
      "The MSE is:  2.542265594092048\n",
      "\n",
      "\n",
      "Features:  top_10_corr\n",
      "Regularization:  None\n",
      "Tune Hyperparameter:  False\n",
      "The MSE is:  2.542265594092048\n",
      "\n",
      "\n",
      "Best parameters:  {'alpha': 0.02}\n",
      "Features:  top_10_corr\n",
      "Regularization:  l1\n",
      "Tune Hyperparameter:  True\n",
      "The MSE is:  2.6151918765660027\n",
      "\n",
      "\n",
      "Features:  top_10_corr\n",
      "Regularization:  l1\n",
      "Tune Hyperparameter:  False\n",
      "The MSE is:  3.1254121060266384\n",
      "\n",
      "\n",
      "Best parameters:  {'alpha': 0.98}\n",
      "Features:  top_10_corr\n",
      "Regularization:  l2\n",
      "Tune Hyperparameter:  True\n",
      "The MSE is:  2.5408149808782805\n",
      "\n",
      "\n",
      "Features:  top_10_corr\n",
      "Regularization:  l2\n",
      "Tune Hyperparameter:  False\n",
      "The MSE is:  2.5408149808782805\n",
      "\n",
      "\n"
     ]
    }
   ],
   "source": [
    "mse_dict = {}\n",
    "for feat_set in features_list.keys():\n",
    "    for regularization in regularizations:\n",
    "        for tune_hyperparameter in tune_hyperparameters:\n",
    "            hardness_model = models.MultiLinearRegressionModel(train_df_kmeans, regularization=regularization)\n",
    "            hardness_model.preprocess(features=features_list['all_kmeans'])\n",
    "            hardness_model.train_model(tune_hyperparameters=tune_hyperparameter)\n",
    "            print(\"Features: \", feat_set)\n",
    "            print(\"Regularization: \", regularization)\n",
    "            print(\"Tune Hyperparameter: \", tune_hyperparameter)\n",
    "            pred = hardness_model.predict(on_test=True)\n",
    "            mse = hardness_model.evaluate(pred, on_test=True)\n",
    "            print(\"\\n\")\n",
    "            mse_dict[(feat_set, regularization, tune_hyperparameter, hardness_model.alpha)] = mse"
   ]
  },
  {
   "cell_type": "code",
   "execution_count": 435,
   "metadata": {},
   "outputs": [
    {
     "name": "stdout",
     "output_type": "stream",
     "text": [
      "Best parameters:  {'alpha': 0.98}\n"
     ]
    }
   ],
   "source": [
    "# train the best mlr model here again\n",
    "best_hardness_model = models.MultiLinearRegressionModel(train_df_kmeans, test_df_kmeans, regularization='l2')\n",
    "best_hardness_model.preprocess(features=['variance_prompt','prompt_gunning_fog', 'prompt_complex_word_count', 'prompt_token_length', 'prompt_clusters_1', 'prompt_clusters_2', 'prompt_clusters_3', 'prompt_clusters_4', 'prompt_clusters_5', 'prompt_clusters_6', 'prompt_clusters_7', 'prompt_clusters_8', 'prompt_clusters_9', 'prompt_lexical_diversity'])\n",
    "best_hardness_model.train_model(tune_hyperparameters=True)\n",
    "hardness_prediction = best_hardness_model.predict(on_test=True)"
   ]
  },
  {
   "cell_type": "code",
   "execution_count": null,
   "metadata": {},
   "outputs": [],
   "source": [
    "best_ord_hardness_model = models.OrdinalRegressionModel(train_df_kmeans, test_df_kmeans)\n",
    "best_ord_hardness_model.preprocess(features=features_list['all_kmeans'])\n",
    "best_ord_hardness_model.train_model()\n",
    "ord_hardness_prediction = best_ord_hardness_model.predict(on_test=True)"
   ]
  },
  {
   "cell_type": "code",
   "execution_count": 455,
   "metadata": {},
   "outputs": [],
   "source": [
    "xg_hard = models.XGBoostModel(train_df_kmeans, test_df_kmeans)\n",
    "xg_hard.preprocess(features=features_list['all_kmeans'])\n",
    "xg_hard.train_model()\n",
    "xg_hard_pred = xg_hard.predict(on_test=True)"
   ]
  },
  {
   "cell_type": "code",
   "execution_count": 492,
   "metadata": {},
   "outputs": [
    {
     "name": "stdout",
     "output_type": "stream",
     "text": [
      "The accuracy is:  0.49399973625214294\n",
      "The MSE is:  2.7878148490043517\n"
     ]
    },
    {
     "data": {
      "text/plain": [
       "0.49399973625214294"
      ]
     },
     "execution_count": 492,
     "metadata": {},
     "output_type": "execute_result"
    }
   ],
   "source": [
    "xg_hard = models.XGBoostModel(train_df_kmeans, hardness=True)\n",
    "xg_hard.preprocess(features=features_list['all_kmeans'])\n",
    "xg_hard.train_model()\n",
    "xg_hard.evaluate(xg_hard.predict(on_test=True), on_test=True)"
   ]
  },
  {
   "cell_type": "code",
   "execution_count": 504,
   "metadata": {},
   "outputs": [
    {
     "data": {
      "image/png": "[encoded data removed]",
      "text/plain": [
       "<Figure size 640x480 with 1 Axes>"
      ]
     },
     "metadata": {},
     "output_type": "display_data"
    }
   ],
   "source": [
    "# import matplotlib.pyplot as plt\n",
    "# import seaborn as sns\n",
    "# plot_df = pd.DataFrame({'value': list(xg_hard.predict(on_test=True)) + list(xg_hard.y_test), 'group': ['Predicted'] * len(xg_hard.predict(on_test=True)) + ['Actual'] * len(xg_hard.y_test)})\n",
    "# sns.histplot(plot_df, x='value', hue='group', multiple='dodge')\n",
    "# plt.savefig('../figures/hardness_score_pred_vs_actual_distribution.png')\n"
   ]
  },
  {
   "cell_type": "code",
   "execution_count": null,
   "metadata": {},
   "outputs": [
    {
     "data": {
      "image/png": "[encoded data removed]",
      "text/plain": [
       "<Figure size 640x480 with 1 Axes>"
      ]
     },
     "metadata": {},
     "output_type": "display_data"
    }
   ],
   "source": [
    "# x = list(xg_hard.y_test)\n",
    "# y = list(xg_hard.predict(on_test=True))\n",
    "# u, c = np.unique(np.c_[x,y], return_counts=True, axis=0)\n",
    "# s = lambda x : (((x-x.min())/float(x.max()-x.min())+1)*8)**2\n",
    "# plt.scatter(u[:,0], u[:,1], s=c)\n",
    "# plt.xlabel('Actual Hardness Score')\n",
    "# plt.ylabel('Predicted Hardness Score')\n",
    "# plt.title('Actual vs Predicted Hardness Score')\n",
    "# plt.savefig('../figures/actual_vs_predicted_hardness_score_bubble_plot.png')"
   ]
  },
  {
   "cell_type": "code",
   "execution_count": 472,
   "metadata": {},
   "outputs": [],
   "source": [
    "# Code credit in this cell to this notebook: https://colab.research.google.com/drive/1J2Wf7sxc9SVmGnSX_lImhT246pxNVZip?usp=sharing#scrollTo=hytEb0aXfcwm\n",
    "elos = models.compute_elo(train_df_kmeans)\n",
    "bootstrap_elo_lu = models.get_bootstrap_result(train_df_kmeans, models.compute_elo, 1000)\n",
    "bootstrap_lu_median = bootstrap_elo_lu.median().reset_index().set_axis([\"model\", \"Elo rating\"], axis=1)\n",
    "bootstrap_lu_median[\"Elo rating\"] = (bootstrap_lu_median[\"Elo rating\"] + 0.5).astype(int)\n",
    "elo_dict = dict(zip(bootstrap_lu_median.model, bootstrap_lu_median[\"Elo rating\"]))"
   ]
  },
  {
   "cell_type": "code",
   "execution_count": 473,
   "metadata": {},
   "outputs": [],
   "source": [
    "# appending difference in elo rating as a feature to train dataframe\n",
    "train_df_kmeans['elo_diff'] =  train_df_kmeans['model_a'].apply(lambda x: elo_dict[x]) - train_df_kmeans['model_b'].apply(lambda x: elo_dict[x])\n",
    "test_df_kmeans['elo_diff'] =  test_df_kmeans['model_a'].apply(lambda x: elo_dict[x]) - test_df_kmeans['model_b'].apply(lambda x: elo_dict[x])"
   ]
  },
  {
   "cell_type": "code",
   "execution_count": 509,
   "metadata": {},
   "outputs": [
    {
     "name": "stdout",
     "output_type": "stream",
     "text": [
      "The accuracy is:  0.5511948093052699\n",
      "Classification report:                precision    recall  f1-score   support\n",
      "\n",
      "           0       0.56      0.74      0.64      8998\n",
      "           1       0.56      0.72      0.63      8852\n",
      "           2       0.47      0.03      0.05      2791\n",
      "           3       0.45      0.17      0.25      4635\n",
      "\n",
      "    accuracy                           0.55     25276\n",
      "   macro avg       0.51      0.42      0.39     25276\n",
      "weighted avg       0.53      0.55      0.50     25276\n",
      "\n"
     ]
    }
   ],
   "source": [
    "# train xgboost model\n",
    "xgboost_model = models.XGBoostModel(train_df_kmeans, test_df_kmeans)\n",
    "xgboost_model.preprocess(features=['elo_diff', 'prompt_clusters_1', 'prompt_clusters_2', 'prompt_clusters_3', 'prompt_clusters_4', 'prompt_clusters_5', 'prompt_clusters_6', 'prompt_clusters_7', 'prompt_clusters_8', 'prompt_clusters_9'])\n",
    "# xgboost_model.preprocess(features=features_list['all_kmeans'])\n",
    "xgboost_model.train_model()\n",
    "xgboost_pred = xgboost_model.predict()\n",
    "xgboost_model.evaluate(xgboost_pred)\n",
    "# winners_pred = xgboost_model.predict(on_test=True)\n",
    "# xgboost_model.evaluate(winners_pred, on_test=True)\n",
    "winners_pred = xgboost_model.predict_to_outcome(xgboost_model.predict(on_test=True))"
   ]
  },
  {
   "cell_type": "code",
   "execution_count": null,
   "metadata": {},
   "outputs": [
    {
     "data": {
      "image/png": "[encoded data removed]",
      "text/plain": [
       "<Figure size 640x480 with 2 Axes>"
      ]
     },
     "metadata": {},
     "output_type": "display_data"
    }
   ],
   "source": [
    "# from sklearn.metrics import confusion_matrix, ConfusionMatrixDisplay\n",
    "\n",
    "# cm = confusion_matrix(xgboost_model.y_train, xgboost_model.predict())\n",
    "# disp = ConfusionMatrixDisplay(confusion_matrix=cm, display_labels=['model_a', 'model_b', 'tie', 'tie (bothbad)'])\n",
    "# disp.plot()\n",
    "\n",
    "# plt.savefig('../figures/xgboost_winners_confusion_matrix.png')"
   ]
  },
  {
   "cell_type": "code",
   "execution_count": 456,
   "metadata": {},
   "outputs": [],
   "source": [
    "# create submission file\n",
    "pd.concat([test_df_kmeans['question_id'], pd.Series(winners_pred, name='winner'), pd.Series(xg_hard_pred, name='hardness_score')], axis=1).to_csv('predictions.csv', index=False)"
   ]
  }
 ],
 "metadata": {
  "kernelspec": {
   "display_name": "Python 3",
   "language": "python",
   "name": "python3"
  },
  "language_info": {
   "codemirror_mode": {
    "name": "ipython",
    "version": 3
   },
   "file_extension": ".py",
   "mimetype": "text/x-python",
   "name": "python",
   "nbconvert_exporter": "python",
   "pygments_lexer": "ipython3",
   "version": "3.9.20"
  }
 },
 "nbformat": 4,
 "nbformat_minor": 2
}
