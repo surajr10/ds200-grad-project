{
 "cells": [
  {
   "cell_type": "code",
   "execution_count": 14,
   "metadata": {},
   "outputs": [],
   "source": [
    "# Import all the models and functions\n",
    "import importlib\n",
    "import models\n",
    "importlib.reload(models)\n",
    "\n",
    "import pandas as pd"
   ]
  },
  {
   "cell_type": "markdown",
   "metadata": {},
   "source": [
    "# Example of using a model"
   ]
  },
  {
   "cell_type": "code",
   "execution_count": 3,
   "metadata": {},
   "outputs": [
    {
     "ename": "NameError",
     "evalue": "name 're' is not defined",
     "output_type": "error",
     "traceback": [
      "\u001b[0;31m---------------------------------------------------------------------------\u001b[0m",
      "\u001b[0;31mNameError\u001b[0m                                 Traceback (most recent call last)",
      "Cell \u001b[0;32mIn[3], line 9\u001b[0m\n\u001b[1;32m      7\u001b[0m \u001b[38;5;66;03m# Perform any feature engineering\u001b[39;00m\n\u001b[1;32m      8\u001b[0m pattern_z \u001b[38;5;241m=\u001b[39m \u001b[38;5;124mr\u001b[39m\u001b[38;5;124m\"\u001b[39m\u001b[38;5;124m\\\u001b[39m\u001b[38;5;124mb\u001b[39m\u001b[38;5;124m\\\u001b[39m\u001b[38;5;124mw+\u001b[39m\u001b[38;5;124m\\\u001b[39m\u001b[38;5;124mb\u001b[39m\u001b[38;5;124m\"\u001b[39m\n\u001b[0;32m----> 9\u001b[0m topic_and_hardness[\u001b[38;5;124m'\u001b[39m\u001b[38;5;124mprompt_length\u001b[39m\u001b[38;5;124m'\u001b[39m] \u001b[38;5;241m=\u001b[39m \u001b[43mtopic_and_hardness\u001b[49m\u001b[43m[\u001b[49m\u001b[38;5;124;43m'\u001b[39;49m\u001b[38;5;124;43mprompt\u001b[39;49m\u001b[38;5;124;43m'\u001b[39;49m\u001b[43m]\u001b[49m\u001b[38;5;241;43m.\u001b[39;49m\u001b[43mapply\u001b[49m\u001b[43m(\u001b[49m\u001b[38;5;28;43;01mlambda\u001b[39;49;00m\u001b[43m \u001b[49m\u001b[43mx\u001b[49m\u001b[43m:\u001b[49m\u001b[43m \u001b[49m\u001b[38;5;28;43mlen\u001b[39;49m\u001b[43m(\u001b[49m\u001b[43mre\u001b[49m\u001b[38;5;241;43m.\u001b[39;49m\u001b[43mfindall\u001b[49m\u001b[43m(\u001b[49m\u001b[43mpattern_z\u001b[49m\u001b[43m,\u001b[49m\u001b[43m \u001b[49m\u001b[43mx\u001b[49m\u001b[43m)\u001b[49m\u001b[43m)\u001b[49m\u001b[43m)\u001b[49m\n\u001b[1;32m     10\u001b[0m topic_and_hardness \u001b[38;5;241m=\u001b[39m topic_and_hardness\u001b[38;5;241m.\u001b[39mdropna()\n\u001b[1;32m     11\u001b[0m \u001b[38;5;66;03m# Create a model\u001b[39;00m\n",
      "File \u001b[0;32m~/opt/anaconda3/envs/data200-grad-project/lib/python3.9/site-packages/pandas/core/series.py:4917\u001b[0m, in \u001b[0;36mSeries.apply\u001b[0;34m(self, func, convert_dtype, args, by_row, **kwargs)\u001b[0m\n\u001b[1;32m   4789\u001b[0m \u001b[38;5;28;01mdef\u001b[39;00m \u001b[38;5;21mapply\u001b[39m(\n\u001b[1;32m   4790\u001b[0m     \u001b[38;5;28mself\u001b[39m,\n\u001b[1;32m   4791\u001b[0m     func: AggFuncType,\n\u001b[0;32m   (...)\u001b[0m\n\u001b[1;32m   4796\u001b[0m     \u001b[38;5;241m*\u001b[39m\u001b[38;5;241m*\u001b[39mkwargs,\n\u001b[1;32m   4797\u001b[0m ) \u001b[38;5;241m-\u001b[39m\u001b[38;5;241m>\u001b[39m DataFrame \u001b[38;5;241m|\u001b[39m Series:\n\u001b[1;32m   4798\u001b[0m \u001b[38;5;250m    \u001b[39m\u001b[38;5;124;03m\"\"\"\u001b[39;00m\n\u001b[1;32m   4799\u001b[0m \u001b[38;5;124;03m    Invoke function on values of Series.\u001b[39;00m\n\u001b[1;32m   4800\u001b[0m \n\u001b[0;32m   (...)\u001b[0m\n\u001b[1;32m   4915\u001b[0m \u001b[38;5;124;03m    dtype: float64\u001b[39;00m\n\u001b[1;32m   4916\u001b[0m \u001b[38;5;124;03m    \"\"\"\u001b[39;00m\n\u001b[0;32m-> 4917\u001b[0m     \u001b[38;5;28;01mreturn\u001b[39;00m \u001b[43mSeriesApply\u001b[49m\u001b[43m(\u001b[49m\n\u001b[1;32m   4918\u001b[0m \u001b[43m        \u001b[49m\u001b[38;5;28;43mself\u001b[39;49m\u001b[43m,\u001b[49m\n\u001b[1;32m   4919\u001b[0m \u001b[43m        \u001b[49m\u001b[43mfunc\u001b[49m\u001b[43m,\u001b[49m\n\u001b[1;32m   4920\u001b[0m \u001b[43m        \u001b[49m\u001b[43mconvert_dtype\u001b[49m\u001b[38;5;241;43m=\u001b[39;49m\u001b[43mconvert_dtype\u001b[49m\u001b[43m,\u001b[49m\n\u001b[1;32m   4921\u001b[0m \u001b[43m        \u001b[49m\u001b[43mby_row\u001b[49m\u001b[38;5;241;43m=\u001b[39;49m\u001b[43mby_row\u001b[49m\u001b[43m,\u001b[49m\n\u001b[1;32m   4922\u001b[0m \u001b[43m        \u001b[49m\u001b[43margs\u001b[49m\u001b[38;5;241;43m=\u001b[39;49m\u001b[43margs\u001b[49m\u001b[43m,\u001b[49m\n\u001b[1;32m   4923\u001b[0m \u001b[43m        \u001b[49m\u001b[43mkwargs\u001b[49m\u001b[38;5;241;43m=\u001b[39;49m\u001b[43mkwargs\u001b[49m\u001b[43m,\u001b[49m\n\u001b[1;32m   4924\u001b[0m \u001b[43m    \u001b[49m\u001b[43m)\u001b[49m\u001b[38;5;241;43m.\u001b[39;49m\u001b[43mapply\u001b[49m\u001b[43m(\u001b[49m\u001b[43m)\u001b[49m\n",
      "File \u001b[0;32m~/opt/anaconda3/envs/data200-grad-project/lib/python3.9/site-packages/pandas/core/apply.py:1427\u001b[0m, in \u001b[0;36mSeriesApply.apply\u001b[0;34m(self)\u001b[0m\n\u001b[1;32m   1424\u001b[0m     \u001b[38;5;28;01mreturn\u001b[39;00m \u001b[38;5;28mself\u001b[39m\u001b[38;5;241m.\u001b[39mapply_compat()\n\u001b[1;32m   1426\u001b[0m \u001b[38;5;66;03m# self.func is Callable\u001b[39;00m\n\u001b[0;32m-> 1427\u001b[0m \u001b[38;5;28;01mreturn\u001b[39;00m \u001b[38;5;28;43mself\u001b[39;49m\u001b[38;5;241;43m.\u001b[39;49m\u001b[43mapply_standard\u001b[49m\u001b[43m(\u001b[49m\u001b[43m)\u001b[49m\n",
      "File \u001b[0;32m~/opt/anaconda3/envs/data200-grad-project/lib/python3.9/site-packages/pandas/core/apply.py:1507\u001b[0m, in \u001b[0;36mSeriesApply.apply_standard\u001b[0;34m(self)\u001b[0m\n\u001b[1;32m   1501\u001b[0m \u001b[38;5;66;03m# row-wise access\u001b[39;00m\n\u001b[1;32m   1502\u001b[0m \u001b[38;5;66;03m# apply doesn't have a `na_action` keyword and for backward compat reasons\u001b[39;00m\n\u001b[1;32m   1503\u001b[0m \u001b[38;5;66;03m# we need to give `na_action=\"ignore\"` for categorical data.\u001b[39;00m\n\u001b[1;32m   1504\u001b[0m \u001b[38;5;66;03m# TODO: remove the `na_action=\"ignore\"` when that default has been changed in\u001b[39;00m\n\u001b[1;32m   1505\u001b[0m \u001b[38;5;66;03m#  Categorical (GH51645).\u001b[39;00m\n\u001b[1;32m   1506\u001b[0m action \u001b[38;5;241m=\u001b[39m \u001b[38;5;124m\"\u001b[39m\u001b[38;5;124mignore\u001b[39m\u001b[38;5;124m\"\u001b[39m \u001b[38;5;28;01mif\u001b[39;00m \u001b[38;5;28misinstance\u001b[39m(obj\u001b[38;5;241m.\u001b[39mdtype, CategoricalDtype) \u001b[38;5;28;01melse\u001b[39;00m \u001b[38;5;28;01mNone\u001b[39;00m\n\u001b[0;32m-> 1507\u001b[0m mapped \u001b[38;5;241m=\u001b[39m \u001b[43mobj\u001b[49m\u001b[38;5;241;43m.\u001b[39;49m\u001b[43m_map_values\u001b[49m\u001b[43m(\u001b[49m\n\u001b[1;32m   1508\u001b[0m \u001b[43m    \u001b[49m\u001b[43mmapper\u001b[49m\u001b[38;5;241;43m=\u001b[39;49m\u001b[43mcurried\u001b[49m\u001b[43m,\u001b[49m\u001b[43m \u001b[49m\u001b[43mna_action\u001b[49m\u001b[38;5;241;43m=\u001b[39;49m\u001b[43maction\u001b[49m\u001b[43m,\u001b[49m\u001b[43m \u001b[49m\u001b[43mconvert\u001b[49m\u001b[38;5;241;43m=\u001b[39;49m\u001b[38;5;28;43mself\u001b[39;49m\u001b[38;5;241;43m.\u001b[39;49m\u001b[43mconvert_dtype\u001b[49m\n\u001b[1;32m   1509\u001b[0m \u001b[43m\u001b[49m\u001b[43m)\u001b[49m\n\u001b[1;32m   1511\u001b[0m \u001b[38;5;28;01mif\u001b[39;00m \u001b[38;5;28mlen\u001b[39m(mapped) \u001b[38;5;129;01mand\u001b[39;00m \u001b[38;5;28misinstance\u001b[39m(mapped[\u001b[38;5;241m0\u001b[39m], ABCSeries):\n\u001b[1;32m   1512\u001b[0m     \u001b[38;5;66;03m# GH#43986 Need to do list(mapped) in order to get treated as nested\u001b[39;00m\n\u001b[1;32m   1513\u001b[0m     \u001b[38;5;66;03m#  See also GH#25959 regarding EA support\u001b[39;00m\n\u001b[1;32m   1514\u001b[0m     \u001b[38;5;28;01mreturn\u001b[39;00m obj\u001b[38;5;241m.\u001b[39m_constructor_expanddim(\u001b[38;5;28mlist\u001b[39m(mapped), index\u001b[38;5;241m=\u001b[39mobj\u001b[38;5;241m.\u001b[39mindex)\n",
      "File \u001b[0;32m~/opt/anaconda3/envs/data200-grad-project/lib/python3.9/site-packages/pandas/core/base.py:921\u001b[0m, in \u001b[0;36mIndexOpsMixin._map_values\u001b[0;34m(self, mapper, na_action, convert)\u001b[0m\n\u001b[1;32m    918\u001b[0m \u001b[38;5;28;01mif\u001b[39;00m \u001b[38;5;28misinstance\u001b[39m(arr, ExtensionArray):\n\u001b[1;32m    919\u001b[0m     \u001b[38;5;28;01mreturn\u001b[39;00m arr\u001b[38;5;241m.\u001b[39mmap(mapper, na_action\u001b[38;5;241m=\u001b[39mna_action)\n\u001b[0;32m--> 921\u001b[0m \u001b[38;5;28;01mreturn\u001b[39;00m \u001b[43malgorithms\u001b[49m\u001b[38;5;241;43m.\u001b[39;49m\u001b[43mmap_array\u001b[49m\u001b[43m(\u001b[49m\u001b[43marr\u001b[49m\u001b[43m,\u001b[49m\u001b[43m \u001b[49m\u001b[43mmapper\u001b[49m\u001b[43m,\u001b[49m\u001b[43m \u001b[49m\u001b[43mna_action\u001b[49m\u001b[38;5;241;43m=\u001b[39;49m\u001b[43mna_action\u001b[49m\u001b[43m,\u001b[49m\u001b[43m \u001b[49m\u001b[43mconvert\u001b[49m\u001b[38;5;241;43m=\u001b[39;49m\u001b[43mconvert\u001b[49m\u001b[43m)\u001b[49m\n",
      "File \u001b[0;32m~/opt/anaconda3/envs/data200-grad-project/lib/python3.9/site-packages/pandas/core/algorithms.py:1743\u001b[0m, in \u001b[0;36mmap_array\u001b[0;34m(arr, mapper, na_action, convert)\u001b[0m\n\u001b[1;32m   1741\u001b[0m values \u001b[38;5;241m=\u001b[39m arr\u001b[38;5;241m.\u001b[39mastype(\u001b[38;5;28mobject\u001b[39m, copy\u001b[38;5;241m=\u001b[39m\u001b[38;5;28;01mFalse\u001b[39;00m)\n\u001b[1;32m   1742\u001b[0m \u001b[38;5;28;01mif\u001b[39;00m na_action \u001b[38;5;129;01mis\u001b[39;00m \u001b[38;5;28;01mNone\u001b[39;00m:\n\u001b[0;32m-> 1743\u001b[0m     \u001b[38;5;28;01mreturn\u001b[39;00m \u001b[43mlib\u001b[49m\u001b[38;5;241;43m.\u001b[39;49m\u001b[43mmap_infer\u001b[49m\u001b[43m(\u001b[49m\u001b[43mvalues\u001b[49m\u001b[43m,\u001b[49m\u001b[43m \u001b[49m\u001b[43mmapper\u001b[49m\u001b[43m,\u001b[49m\u001b[43m \u001b[49m\u001b[43mconvert\u001b[49m\u001b[38;5;241;43m=\u001b[39;49m\u001b[43mconvert\u001b[49m\u001b[43m)\u001b[49m\n\u001b[1;32m   1744\u001b[0m \u001b[38;5;28;01melse\u001b[39;00m:\n\u001b[1;32m   1745\u001b[0m     \u001b[38;5;28;01mreturn\u001b[39;00m lib\u001b[38;5;241m.\u001b[39mmap_infer_mask(\n\u001b[1;32m   1746\u001b[0m         values, mapper, mask\u001b[38;5;241m=\u001b[39misna(values)\u001b[38;5;241m.\u001b[39mview(np\u001b[38;5;241m.\u001b[39muint8), convert\u001b[38;5;241m=\u001b[39mconvert\n\u001b[1;32m   1747\u001b[0m     )\n",
      "File \u001b[0;32mlib.pyx:2972\u001b[0m, in \u001b[0;36mpandas._libs.lib.map_infer\u001b[0;34m()\u001b[0m\n",
      "Cell \u001b[0;32mIn[3], line 9\u001b[0m, in \u001b[0;36m<lambda>\u001b[0;34m(x)\u001b[0m\n\u001b[1;32m      7\u001b[0m \u001b[38;5;66;03m# Perform any feature engineering\u001b[39;00m\n\u001b[1;32m      8\u001b[0m pattern_z \u001b[38;5;241m=\u001b[39m \u001b[38;5;124mr\u001b[39m\u001b[38;5;124m\"\u001b[39m\u001b[38;5;124m\\\u001b[39m\u001b[38;5;124mb\u001b[39m\u001b[38;5;124m\\\u001b[39m\u001b[38;5;124mw+\u001b[39m\u001b[38;5;124m\\\u001b[39m\u001b[38;5;124mb\u001b[39m\u001b[38;5;124m\"\u001b[39m\n\u001b[0;32m----> 9\u001b[0m topic_and_hardness[\u001b[38;5;124m'\u001b[39m\u001b[38;5;124mprompt_length\u001b[39m\u001b[38;5;124m'\u001b[39m] \u001b[38;5;241m=\u001b[39m topic_and_hardness[\u001b[38;5;124m'\u001b[39m\u001b[38;5;124mprompt\u001b[39m\u001b[38;5;124m'\u001b[39m]\u001b[38;5;241m.\u001b[39mapply(\u001b[38;5;28;01mlambda\u001b[39;00m x: \u001b[38;5;28mlen\u001b[39m(\u001b[43mre\u001b[49m\u001b[38;5;241m.\u001b[39mfindall(pattern_z, x)))\n\u001b[1;32m     10\u001b[0m topic_and_hardness \u001b[38;5;241m=\u001b[39m topic_and_hardness\u001b[38;5;241m.\u001b[39mdropna()\n\u001b[1;32m     11\u001b[0m \u001b[38;5;66;03m# Create a model\u001b[39;00m\n",
      "\u001b[0;31mNameError\u001b[0m: name 're' is not defined"
     ]
    }
   ],
   "source": [
    "# Load data\n",
    "topic_and_hardness = pd.read_json(\n",
    "    \"../data/training-set/chatbot-arena-gpt3-scores.jsonl.gz\",\n",
    "    lines=True,\n",
    "    compression=\"gzip\"\n",
    ")\n",
    "# Perform any feature engineering\n",
    "pattern_z = r\"\\b\\w+\\b\"\n",
    "topic_and_hardness['prompt_length'] = topic_and_hardness['prompt'].apply(lambda x: len(re.findall(pattern_z, x)))\n",
    "topic_and_hardness = topic_and_hardness.dropna()\n",
    "# Create a model\n",
    "mlr = models.MultiLinearRegressionModel(topic_and_hardness, regularization='l1')\n",
    "# Preprocess the data with the features you want to use\n",
    "mlr.preprocess(features=['prompt_length'])\n",
    "# Train the model\n",
    "mlr.train_model()\n",
    "# Evaluate the model based on a prediction\n",
    "mlr.evaluate(mlr.predict())"
   ]
  },
  {
   "cell_type": "code",
   "execution_count": 33,
   "metadata": {},
   "outputs": [
    {
     "name": "stdout",
     "output_type": "stream",
     "text": [
      "18.263910933739215\n",
      "[[1215 1517]\n",
      " [1199 1429]]\n"
     ]
    }
   ],
   "source": [
    "convos_df = pd.read_json(\n",
    "    \"../data/training-set/chatbot-arena-conversations.jsonl.gz\",\n",
    "    lines=True,\n",
    "    compression=\"gzip\"\n",
    ")\n",
    "# Perform any feature engineering\n",
    "convos_df[\"prompt\"] = convos_df[\"conversation_a\"].str[0].str[\"content\"]\n",
    "convos_df['prompt_length'] = convos_df['prompt'].apply(lambda x: len(re.findall(pattern_z, x)))\n",
    "convos_df = convos_df.dropna()\n",
    "# Create a model\n",
    "lr = models.RandomForestModel(convos_df)\n",
    "# Preprocess the data with the features you want to use\n",
    "lr.preprocess(features=['prompt_length'])\n",
    "# Train the model\n",
    "lr.train_model()\n",
    "# Evaluate the model based on a prediction\n",
    "lr.evaluate(lr.predict())"
   ]
  },
  {
   "cell_type": "code",
   "execution_count": 38,
   "metadata": {},
   "outputs": [
    {
     "name": "stdout",
     "output_type": "stream",
     "text": [
      "The accuracy is:  0.34568226763348714\n"
     ]
    }
   ],
   "source": [
    "svm = models.SVMModel(convos_df, decision_function_shape='ovo')\n",
    "svm.preprocess(features=['prompt_length'])\n",
    "svm.train_model()\n",
    "svm.evaluate(svm.predict())"
   ]
  },
  {
   "cell_type": "code",
   "execution_count": 39,
   "metadata": {},
   "outputs": [
    {
     "name": "stdout",
     "output_type": "stream",
     "text": [
      "The accuracy is:  0.34568226763348714\n"
     ]
    }
   ],
   "source": [
    "svmr = models.SVMModel(convos_df, decision_function_shape='ovr')\n",
    "svmr.preprocess(features=['prompt_length'])\n",
    "svmr.train_model()\n",
    "svmr.evaluate(svmr.predict())"
   ]
  },
  {
   "cell_type": "markdown",
   "metadata": {},
   "source": [
    "# Actual Modeling"
   ]
  },
  {
   "cell_type": "code",
   "execution_count": 4,
   "metadata": {},
   "outputs": [],
   "source": [
    "hardness_df = pd.read_csv(\"../data/training-set/all_features_no_sentiment_draft_final.csv\")\n",
    "winners_df = pd.read_csv(\"../data/training-set/text_features_no_sentiment.csv\")"
   ]
  },
  {
   "cell_type": "code",
   "execution_count": 11,
   "metadata": {},
   "outputs": [],
   "source": [
    "winners_features = list(winners_df.select_dtypes(include=['number']).columns)"
   ]
  },
  {
   "cell_type": "markdown",
   "metadata": {},
   "source": [
    "## Hardness Modeling"
   ]
  },
  {
   "cell_type": "code",
   "execution_count": 11,
   "metadata": {},
   "outputs": [],
   "source": [
    "top_10_hardness_features_by_corr = [\n",
    "    'prompt_unique_words',\n",
    "    'prompt_token_length', \n",
    "    'a_response_token_length',\n",
    "    'b_response_token_length',\n",
    "    'prompt_a_keyword_overlap',\n",
    "    'prompt_b_keyword_overlap',\n",
    "    'b_response_unique_words',\n",
    "    'a_response_unique_words',\n",
    "    'response_ab_keyword_overlap',\n",
    "    'a_response_complex_word_count'\n",
    "]\n",
    "\n",
    "top_10_features_by_rf = [\n",
    "    'b_response_token_length',\n",
    "    'cosine_sim_response_a_b',\n",
    "    'a_response_token_length',\n",
    "    'cosine_sim_prompt_response_b',\n",
    "    'cosine_sim_prompt_response_a',\n",
    "    'response_jaccard_similarity',\n",
    "    'prompt_b_jaccard_similarity',\n",
    "    'prompt_a_jaccard_similarity',\n",
    "    'b_response_avg_syllable_count',\n",
    "    'a_response_avg_syllable_count'\n",
    "]\n",
    "\n",
    "top_5_hardness_features_by_corr = top_10_hardness_features_by_corr[:5]\n",
    "\n",
    "features_list = {'top_5_corr': top_5_hardness_features_by_corr, 'top_10_corr': top_10_hardness_features_by_corr, 'all': list(hardness_df.drop(columns=['combined_hardness_score']).columns), 'top_5_rf': top_10_features_by_rf[:5], 'top_10_rf': top_10_features_by_rf}\n",
    "regularizations = [None, 'l1', 'l2']\n",
    "tune_hyperparameters = [True, False]"
   ]
  },
  {
   "cell_type": "code",
   "execution_count": 39,
   "metadata": {},
   "outputs": [
    {
     "name": "stdout",
     "output_type": "stream",
     "text": [
      "Optimization terminated successfully.\n",
      "         Current function value: 1.376612\n",
      "         Iterations: 92\n",
      "         Function evaluations: 95\n",
      "         Gradient evaluations: 95\n"
     ]
    },
    {
     "name": "stderr",
     "output_type": "stream",
     "text": [
      "/Users/surajr/opt/anaconda3/envs/data200-grad-project/lib/python3.9/site-packages/statsmodels/base/model.py:595: HessianInversionWarning: Inverting hessian failed, no bse or cov_params available\n",
      "  warnings.warn('Inverting hessian failed, no bse or cov_params '\n"
     ]
    }
   ],
   "source": [
    "ord_model_test = models.OrdinalRegressionModel(hardness_df)\n",
    "ord_model_test.preprocess(features_list['all'])\n",
    "ord_model_test.train_model()\n",
    "ord_model_test_predict = ord_model_test.predict()"
   ]
  },
  {
   "cell_type": "code",
   "execution_count": 40,
   "metadata": {},
   "outputs": [
    {
     "name": "stdout",
     "output_type": "stream",
     "text": [
      "The MSE is:  2.6680749933984687\n"
     ]
    },
    {
     "data": {
      "text/plain": [
       "2.6680749933984687"
      ]
     },
     "execution_count": 40,
     "metadata": {},
     "output_type": "execute_result"
    }
   ],
   "source": [
    "ord_model_test.evaluate(ord_model_test_predict)"
   ]
  },
  {
   "cell_type": "code",
   "execution_count": 45,
   "metadata": {},
   "outputs": [
    {
     "name": "stdout",
     "output_type": "stream",
     "text": [
      "Features:  top_5_corr\n",
      "Regularization:  None\n",
      "Tune Hyperparameter:  True\n",
      "The MSE is:  2.402957486136784\n",
      "\n",
      "\n",
      "Features:  top_5_corr\n",
      "Regularization:  None\n",
      "Tune Hyperparameter:  False\n",
      "The MSE is:  2.402957486136784\n",
      "\n",
      "\n",
      "Best parameters:  {'alpha': 0.02}\n",
      "Features:  top_5_corr\n",
      "Regularization:  l1\n",
      "Tune Hyperparameter:  True\n",
      "The MSE is:  2.415764457354106\n",
      "\n",
      "\n",
      "Features:  top_5_corr\n",
      "Regularization:  l1\n",
      "Tune Hyperparameter:  False\n",
      "The MSE is:  3.0734090308951676\n",
      "\n",
      "\n",
      "Best parameters:  {'alpha': 0.98}\n",
      "Features:  top_5_corr\n",
      "Regularization:  l2\n",
      "Tune Hyperparameter:  True\n",
      "The MSE is:  2.402825455505677\n",
      "\n",
      "\n",
      "Features:  top_5_corr\n",
      "Regularization:  l2\n",
      "Tune Hyperparameter:  False\n",
      "The MSE is:  2.402825455505677\n",
      "\n",
      "\n",
      "Features:  top_10_corr\n",
      "Regularization:  None\n",
      "Tune Hyperparameter:  True\n",
      "The MSE is:  2.362424082387114\n",
      "\n",
      "\n",
      "Features:  top_10_corr\n",
      "Regularization:  None\n",
      "Tune Hyperparameter:  False\n",
      "The MSE is:  2.362424082387114\n",
      "\n",
      "\n",
      "Best parameters:  {'alpha': 0.02}\n",
      "Features:  top_10_corr\n",
      "Regularization:  l1\n",
      "Tune Hyperparameter:  True\n",
      "The MSE is:  2.4053340374966994\n",
      "\n",
      "\n",
      "Features:  top_10_corr\n",
      "Regularization:  l1\n",
      "Tune Hyperparameter:  False\n",
      "The MSE is:  3.0734090308951676\n",
      "\n",
      "\n",
      "Best parameters:  {'alpha': 0.98}\n",
      "Features:  top_10_corr\n",
      "Regularization:  l2\n",
      "Tune Hyperparameter:  True\n",
      "The MSE is:  2.36255611301822\n",
      "\n",
      "\n",
      "Features:  top_10_corr\n",
      "Regularization:  l2\n",
      "Tune Hyperparameter:  False\n",
      "The MSE is:  2.36255611301822\n",
      "\n",
      "\n",
      "Features:  all\n",
      "Regularization:  None\n",
      "Tune Hyperparameter:  True\n",
      "The MSE is:  2.2739635595458147\n",
      "\n",
      "\n",
      "Features:  all\n",
      "Regularization:  None\n",
      "Tune Hyperparameter:  False\n",
      "The MSE is:  2.2739635595458147\n",
      "\n",
      "\n",
      "Best parameters:  {'alpha': 0.02}\n",
      "Features:  all\n",
      "Regularization:  l1\n",
      "Tune Hyperparameter:  True\n",
      "The MSE is:  2.297465011882757\n",
      "\n",
      "\n",
      "Features:  all\n",
      "Regularization:  l1\n",
      "Tune Hyperparameter:  False\n",
      "The MSE is:  3.0734090308951676\n",
      "\n",
      "\n",
      "Best parameters:  {'alpha': 0.98}\n",
      "Features:  all\n",
      "Regularization:  l2\n",
      "Tune Hyperparameter:  True\n",
      "The MSE is:  2.2733034063902826\n",
      "\n",
      "\n",
      "Features:  all\n",
      "Regularization:  l2\n",
      "Tune Hyperparameter:  False\n",
      "The MSE is:  2.2733034063902826\n",
      "\n",
      "\n",
      "Features:  top_5_rf\n",
      "Regularization:  None\n",
      "Tune Hyperparameter:  True\n",
      "The MSE is:  2.8354898336414047\n",
      "\n",
      "\n",
      "Features:  top_5_rf\n",
      "Regularization:  None\n",
      "Tune Hyperparameter:  False\n",
      "The MSE is:  2.8354898336414047\n",
      "\n",
      "\n",
      "Best parameters:  {'alpha': 0.02}\n",
      "Features:  top_5_rf\n",
      "Regularization:  l1\n",
      "Tune Hyperparameter:  True\n",
      "The MSE is:  2.8489569580142593\n",
      "\n",
      "\n",
      "Features:  top_5_rf\n",
      "Regularization:  l1\n",
      "Tune Hyperparameter:  False\n",
      "The MSE is:  3.0734090308951676\n",
      "\n",
      "\n",
      "Best parameters:  {'alpha': 0.98}\n",
      "Features:  top_5_rf\n",
      "Regularization:  l2\n",
      "Tune Hyperparameter:  True\n",
      "The MSE is:  2.836282017428043\n",
      "\n",
      "\n",
      "Features:  top_5_rf\n",
      "Regularization:  l2\n",
      "Tune Hyperparameter:  False\n",
      "The MSE is:  2.836282017428043\n",
      "\n",
      "\n",
      "Features:  top_10_rf\n",
      "Regularization:  None\n",
      "Tune Hyperparameter:  True\n",
      "The MSE is:  2.8008978082915235\n",
      "\n",
      "\n",
      "Features:  top_10_rf\n",
      "Regularization:  None\n",
      "Tune Hyperparameter:  False\n",
      "The MSE is:  2.8008978082915235\n",
      "\n",
      "\n",
      "Best parameters:  {'alpha': 0.02}\n",
      "Features:  top_10_rf\n",
      "Regularization:  l1\n",
      "Tune Hyperparameter:  True\n",
      "The MSE is:  2.814628993926591\n",
      "\n",
      "\n",
      "Features:  top_10_rf\n",
      "Regularization:  l1\n",
      "Tune Hyperparameter:  False\n",
      "The MSE is:  3.0734090308951676\n",
      "\n",
      "\n",
      "Best parameters:  {'alpha': 0.98}\n",
      "Features:  top_10_rf\n",
      "Regularization:  l2\n",
      "Tune Hyperparameter:  True\n",
      "The MSE is:  2.8008978082915235\n",
      "\n",
      "\n",
      "Features:  top_10_rf\n",
      "Regularization:  l2\n",
      "Tune Hyperparameter:  False\n",
      "The MSE is:  2.8008978082915235\n",
      "\n",
      "\n"
     ]
    }
   ],
   "source": [
    "mse_dict = {}\n",
    "for feat_set in features_list.keys():\n",
    "    for regularization in regularizations:\n",
    "        for tune_hyperparameter in tune_hyperparameters:\n",
    "            hardness_model = models.MultiLinearRegressionModel(hardness_df, regularization=regularization)\n",
    "            hardness_model.preprocess(features=features_list[feat_set])\n",
    "            hardness_model.train_model(tune_hyperparameters=tune_hyperparameter)\n",
    "            print(\"Features: \", feat_set)\n",
    "            print(\"Regularization: \", regularization)\n",
    "            print(\"Tune Hyperparameter: \", tune_hyperparameter)\n",
    "            mse = hardness_model.evaluate(hardness_model.predict())\n",
    "            print(\"\\n\")\n",
    "            mse_dict[(feat_set, regularization, tune_hyperparameter, hardness_model.alpha)] = mse"
   ]
  },
  {
   "cell_type": "code",
   "execution_count": 46,
   "metadata": {},
   "outputs": [
    {
     "name": "stdout",
     "output_type": "stream",
     "text": [
      "Lowest MSE:  2.2733034063902826\n",
      "Settings:  ('all', 'l2', True, 0.98)\n"
     ]
    }
   ],
   "source": [
    "lowest_mse_settings = min(mse_dict, key=mse_dict.get)\n",
    "lowsest_mse = mse_dict[lowest_mse_settings]\n",
    "print(\"Lowest MSE: \", lowsest_mse)\n",
    "print(\"Settings: \", lowest_mse_settings)"
   ]
  },
  {
   "cell_type": "code",
   "execution_count": 58,
   "metadata": {},
   "outputs": [],
   "source": [
    "lasso_mse = []\n",
    "ridge_mse = []\n",
    "reg_mse = []\n",
    "for key, val in mse_dict.items():\n",
    "    if key[1] == 'l1':\n",
    "        lasso_mse.append(val)\n",
    "    elif key[1] == 'l2':\n",
    "        ridge_mse.append(val)\n",
    "    else:\n",
    "        reg_mse.append(val)"
   ]
  },
  {
   "cell_type": "markdown",
   "metadata": {},
   "source": [
    "## Winner Modeling"
   ]
  },
  {
   "cell_type": "code",
   "execution_count": 16,
   "metadata": {},
   "outputs": [
    {
     "name": "stdout",
     "output_type": "stream",
     "text": [
      "The accuracy is:  0.46064601186552406\n",
      "Classification report:                precision    recall  f1-score   support\n",
      "\n",
      "           0       0.46      0.59      0.52      2615\n",
      "           1       0.49      0.58      0.53      2669\n",
      "           2       0.41      0.14      0.21       862\n",
      "           3       0.36      0.20      0.26      1439\n",
      "\n",
      "    accuracy                           0.46      7585\n",
      "   macro avg       0.43      0.38      0.38      7585\n",
      "weighted avg       0.45      0.46      0.44      7585\n",
      "\n"
     ]
    },
    {
     "data": {
      "text/plain": [
       "0.46064601186552406"
      ]
     },
     "execution_count": 16,
     "metadata": {},
     "output_type": "execute_result"
    }
   ],
   "source": [
    "xgboost_model_test = models.XGBoostModel(winners_df)\n",
    "xgboost_model_test.preprocess(features=winners_features)\n",
    "xgboost_model_test.train_model()\n",
    "xgboost_model_test_predict = xgboost_model_test.predict()\n",
    "xgboost_model_test.evaluate(xgboost_model_test_predict)"
   ]
  },
  {
   "cell_type": "code",
   "execution_count": 59,
   "metadata": {},
   "outputs": [],
   "source": [
    "decision_function_shapes = ['ovo', 'ovr']\n",
    "winners_features = list(winners_df.drop(columns=['winner']).select_dtypes(include=['float64', 'int64', 'float32']).columns)"
   ]
  },
  {
   "cell_type": "code",
   "execution_count": 67,
   "metadata": {},
   "outputs": [
    {
     "name": "stdout",
     "output_type": "stream",
     "text": [
      "Best parameters:  {'C': 10, 'gamma': 0.01, 'kernel': 'rbf'}\n",
      "Decision Function Shape:  ovo\n",
      "The accuracy is:  0.4796308503625577\n",
      "Classification report:                 precision    recall  f1-score   support\n",
      "\n",
      "      model_a       0.47      0.67      0.55      2615\n",
      "      model_b       0.50      0.62      0.55      2669\n",
      "          tie       0.53      0.07      0.13       862\n",
      "tie (bothbad)       0.44      0.13      0.19      1439\n",
      "\n",
      "     accuracy                           0.48      7585\n",
      "    macro avg       0.48      0.37      0.36      7585\n",
      " weighted avg       0.48      0.48      0.43      7585\n",
      "\n",
      "\n",
      "\n",
      "Best parameters:  {'C': 10, 'gamma': 0.01, 'kernel': 'rbf'}\n",
      "Decision Function Shape:  ovr\n",
      "The accuracy is:  0.4796308503625577\n",
      "Classification report:                 precision    recall  f1-score   support\n",
      "\n",
      "      model_a       0.47      0.67      0.55      2615\n",
      "      model_b       0.50      0.62      0.55      2669\n",
      "          tie       0.53      0.07      0.13       862\n",
      "tie (bothbad)       0.44      0.13      0.19      1439\n",
      "\n",
      "     accuracy                           0.48      7585\n",
      "    macro avg       0.48      0.37      0.36      7585\n",
      " weighted avg       0.48      0.48      0.43      7585\n",
      "\n",
      "\n",
      "\n"
     ]
    }
   ],
   "source": [
    "acc_dict = {}\n",
    "for decision_function_shape in decision_function_shapes:\n",
    "    winners_model = models.SVMModel(winners_df, decision_function_shape=decision_function_shape)\n",
    "    winners_model.preprocess(features=winners_features)\n",
    "    winners_model.train_model()\n",
    "    print(\"Decision Function Shape: \", decision_function_shape)\n",
    "    acc = winners_model.evaluate(winners_model.predict())\n",
    "    print(\"\\n\")\n",
    "    acc_dict[(decision_function_shape, winners_model.C)] = acc\n"
   ]
  }
 ],
 "metadata": {
  "kernelspec": {
   "display_name": "Python 3",
   "language": "python",
   "name": "python3"
  },
  "language_info": {
   "codemirror_mode": {
    "name": "ipython",
    "version": 3
   },
   "file_extension": ".py",
   "mimetype": "text/x-python",
   "name": "python",
   "nbconvert_exporter": "python",
   "pygments_lexer": "ipython3",
   "version": "3.9.20"
  }
 },
 "nbformat": 4,
 "nbformat_minor": 2
}
